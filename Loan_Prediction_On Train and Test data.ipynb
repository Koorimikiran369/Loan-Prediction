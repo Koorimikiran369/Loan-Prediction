{
 "cells": [
  {
   "cell_type": "code",
   "execution_count": 1,
   "metadata": {},
   "outputs": [],
   "source": [
    "#Importing the libraries\n",
    "import pandas as pd\n",
    "import numpy as np\n",
    "import seaborn as sns\n",
    "import matplotlib.pyplot as plt\n",
    "%matplotlib inline"
   ]
  },
  {
   "cell_type": "code",
   "execution_count": 2,
   "metadata": {},
   "outputs": [],
   "source": [
    "# Reading the train and test data\n",
    "df_train = pd.read_csv('Loan_Train.csv')\n",
    "df_test = pd.read_csv('Loan_Test.csv')"
   ]
  },
  {
   "cell_type": "code",
   "execution_count": 3,
   "metadata": {},
   "outputs": [
    {
     "data": {
      "text/html": [
       "<div>\n",
       "<style scoped>\n",
       "    .dataframe tbody tr th:only-of-type {\n",
       "        vertical-align: middle;\n",
       "    }\n",
       "\n",
       "    .dataframe tbody tr th {\n",
       "        vertical-align: top;\n",
       "    }\n",
       "\n",
       "    .dataframe thead th {\n",
       "        text-align: right;\n",
       "    }\n",
       "</style>\n",
       "<table border=\"1\" class=\"dataframe\">\n",
       "  <thead>\n",
       "    <tr style=\"text-align: right;\">\n",
       "      <th></th>\n",
       "      <th>Loan_ID</th>\n",
       "      <th>Gender</th>\n",
       "      <th>Married</th>\n",
       "      <th>Dependents</th>\n",
       "      <th>Education</th>\n",
       "      <th>Self_Employed</th>\n",
       "      <th>ApplicantIncome</th>\n",
       "      <th>CoapplicantIncome</th>\n",
       "      <th>LoanAmount</th>\n",
       "      <th>Loan_Amount_Term</th>\n",
       "      <th>Credit_History</th>\n",
       "      <th>Property_Area</th>\n",
       "      <th>Loan_Status</th>\n",
       "    </tr>\n",
       "  </thead>\n",
       "  <tbody>\n",
       "    <tr>\n",
       "      <th>0</th>\n",
       "      <td>LP001002</td>\n",
       "      <td>Male</td>\n",
       "      <td>No</td>\n",
       "      <td>0</td>\n",
       "      <td>Graduate</td>\n",
       "      <td>No</td>\n",
       "      <td>5849</td>\n",
       "      <td>0.0</td>\n",
       "      <td>NaN</td>\n",
       "      <td>360.0</td>\n",
       "      <td>1.0</td>\n",
       "      <td>Urban</td>\n",
       "      <td>Y</td>\n",
       "    </tr>\n",
       "    <tr>\n",
       "      <th>1</th>\n",
       "      <td>LP001003</td>\n",
       "      <td>Male</td>\n",
       "      <td>Yes</td>\n",
       "      <td>1</td>\n",
       "      <td>Graduate</td>\n",
       "      <td>No</td>\n",
       "      <td>4583</td>\n",
       "      <td>1508.0</td>\n",
       "      <td>128.0</td>\n",
       "      <td>360.0</td>\n",
       "      <td>1.0</td>\n",
       "      <td>Rural</td>\n",
       "      <td>N</td>\n",
       "    </tr>\n",
       "    <tr>\n",
       "      <th>2</th>\n",
       "      <td>LP001005</td>\n",
       "      <td>Male</td>\n",
       "      <td>Yes</td>\n",
       "      <td>0</td>\n",
       "      <td>Graduate</td>\n",
       "      <td>Yes</td>\n",
       "      <td>3000</td>\n",
       "      <td>0.0</td>\n",
       "      <td>66.0</td>\n",
       "      <td>360.0</td>\n",
       "      <td>1.0</td>\n",
       "      <td>Urban</td>\n",
       "      <td>Y</td>\n",
       "    </tr>\n",
       "    <tr>\n",
       "      <th>3</th>\n",
       "      <td>LP001006</td>\n",
       "      <td>Male</td>\n",
       "      <td>Yes</td>\n",
       "      <td>0</td>\n",
       "      <td>Not Graduate</td>\n",
       "      <td>No</td>\n",
       "      <td>2583</td>\n",
       "      <td>2358.0</td>\n",
       "      <td>120.0</td>\n",
       "      <td>360.0</td>\n",
       "      <td>1.0</td>\n",
       "      <td>Urban</td>\n",
       "      <td>Y</td>\n",
       "    </tr>\n",
       "    <tr>\n",
       "      <th>4</th>\n",
       "      <td>LP001008</td>\n",
       "      <td>Male</td>\n",
       "      <td>No</td>\n",
       "      <td>0</td>\n",
       "      <td>Graduate</td>\n",
       "      <td>No</td>\n",
       "      <td>6000</td>\n",
       "      <td>0.0</td>\n",
       "      <td>141.0</td>\n",
       "      <td>360.0</td>\n",
       "      <td>1.0</td>\n",
       "      <td>Urban</td>\n",
       "      <td>Y</td>\n",
       "    </tr>\n",
       "  </tbody>\n",
       "</table>\n",
       "</div>"
      ],
      "text/plain": [
       "    Loan_ID Gender Married Dependents     Education Self_Employed  \\\n",
       "0  LP001002   Male      No          0      Graduate            No   \n",
       "1  LP001003   Male     Yes          1      Graduate            No   \n",
       "2  LP001005   Male     Yes          0      Graduate           Yes   \n",
       "3  LP001006   Male     Yes          0  Not Graduate            No   \n",
       "4  LP001008   Male      No          0      Graduate            No   \n",
       "\n",
       "   ApplicantIncome  CoapplicantIncome  LoanAmount  Loan_Amount_Term  \\\n",
       "0             5849                0.0         NaN             360.0   \n",
       "1             4583             1508.0       128.0             360.0   \n",
       "2             3000                0.0        66.0             360.0   \n",
       "3             2583             2358.0       120.0             360.0   \n",
       "4             6000                0.0       141.0             360.0   \n",
       "\n",
       "   Credit_History Property_Area Loan_Status  \n",
       "0             1.0         Urban           Y  \n",
       "1             1.0         Rural           N  \n",
       "2             1.0         Urban           Y  \n",
       "3             1.0         Urban           Y  \n",
       "4             1.0         Urban           Y  "
      ]
     },
     "execution_count": 3,
     "metadata": {},
     "output_type": "execute_result"
    }
   ],
   "source": [
    "df_train.head()"
   ]
  },
  {
   "cell_type": "code",
   "execution_count": 4,
   "metadata": {},
   "outputs": [
    {
     "data": {
      "text/plain": [
       "(614, 13)"
      ]
     },
     "execution_count": 4,
     "metadata": {},
     "output_type": "execute_result"
    }
   ],
   "source": [
    "#sahpe f the data frame\n",
    "df_train.shape"
   ]
  },
  {
   "cell_type": "code",
   "execution_count": 5,
   "metadata": {},
   "outputs": [
    {
     "name": "stdout",
     "output_type": "stream",
     "text": [
      "<class 'pandas.core.frame.DataFrame'>\n",
      "RangeIndex: 614 entries, 0 to 613\n",
      "Data columns (total 13 columns):\n",
      "Loan_ID              614 non-null object\n",
      "Gender               601 non-null object\n",
      "Married              611 non-null object\n",
      "Dependents           599 non-null object\n",
      "Education            614 non-null object\n",
      "Self_Employed        582 non-null object\n",
      "ApplicantIncome      614 non-null int64\n",
      "CoapplicantIncome    614 non-null float64\n",
      "LoanAmount           592 non-null float64\n",
      "Loan_Amount_Term     600 non-null float64\n",
      "Credit_History       564 non-null float64\n",
      "Property_Area        614 non-null object\n",
      "Loan_Status          614 non-null object\n",
      "dtypes: float64(4), int64(1), object(8)\n",
      "memory usage: 62.5+ KB\n"
     ]
    }
   ],
   "source": [
    "#Information about the each column in data set\n",
    "df_train.info()"
   ]
  },
  {
   "cell_type": "code",
   "execution_count": 6,
   "metadata": {},
   "outputs": [
    {
     "data": {
      "text/html": [
       "<div>\n",
       "<style scoped>\n",
       "    .dataframe tbody tr th:only-of-type {\n",
       "        vertical-align: middle;\n",
       "    }\n",
       "\n",
       "    .dataframe tbody tr th {\n",
       "        vertical-align: top;\n",
       "    }\n",
       "\n",
       "    .dataframe thead th {\n",
       "        text-align: right;\n",
       "    }\n",
       "</style>\n",
       "<table border=\"1\" class=\"dataframe\">\n",
       "  <thead>\n",
       "    <tr style=\"text-align: right;\">\n",
       "      <th></th>\n",
       "      <th>Loan_ID</th>\n",
       "      <th>Gender</th>\n",
       "      <th>Married</th>\n",
       "      <th>Dependents</th>\n",
       "      <th>Education</th>\n",
       "      <th>Self_Employed</th>\n",
       "      <th>ApplicantIncome</th>\n",
       "      <th>CoapplicantIncome</th>\n",
       "      <th>LoanAmount</th>\n",
       "      <th>Loan_Amount_Term</th>\n",
       "      <th>Credit_History</th>\n",
       "      <th>Property_Area</th>\n",
       "      <th>Loan_Status</th>\n",
       "    </tr>\n",
       "  </thead>\n",
       "  <tbody>\n",
       "    <tr>\n",
       "      <th>count</th>\n",
       "      <td>614</td>\n",
       "      <td>601</td>\n",
       "      <td>611</td>\n",
       "      <td>599</td>\n",
       "      <td>614</td>\n",
       "      <td>582</td>\n",
       "      <td>614.000000</td>\n",
       "      <td>614.000000</td>\n",
       "      <td>592.000000</td>\n",
       "      <td>600.00000</td>\n",
       "      <td>564.000000</td>\n",
       "      <td>614</td>\n",
       "      <td>614</td>\n",
       "    </tr>\n",
       "    <tr>\n",
       "      <th>unique</th>\n",
       "      <td>614</td>\n",
       "      <td>2</td>\n",
       "      <td>2</td>\n",
       "      <td>4</td>\n",
       "      <td>2</td>\n",
       "      <td>2</td>\n",
       "      <td>NaN</td>\n",
       "      <td>NaN</td>\n",
       "      <td>NaN</td>\n",
       "      <td>NaN</td>\n",
       "      <td>NaN</td>\n",
       "      <td>3</td>\n",
       "      <td>2</td>\n",
       "    </tr>\n",
       "    <tr>\n",
       "      <th>top</th>\n",
       "      <td>LP002820</td>\n",
       "      <td>Male</td>\n",
       "      <td>Yes</td>\n",
       "      <td>0</td>\n",
       "      <td>Graduate</td>\n",
       "      <td>No</td>\n",
       "      <td>NaN</td>\n",
       "      <td>NaN</td>\n",
       "      <td>NaN</td>\n",
       "      <td>NaN</td>\n",
       "      <td>NaN</td>\n",
       "      <td>Semiurban</td>\n",
       "      <td>Y</td>\n",
       "    </tr>\n",
       "    <tr>\n",
       "      <th>freq</th>\n",
       "      <td>1</td>\n",
       "      <td>489</td>\n",
       "      <td>398</td>\n",
       "      <td>345</td>\n",
       "      <td>480</td>\n",
       "      <td>500</td>\n",
       "      <td>NaN</td>\n",
       "      <td>NaN</td>\n",
       "      <td>NaN</td>\n",
       "      <td>NaN</td>\n",
       "      <td>NaN</td>\n",
       "      <td>233</td>\n",
       "      <td>422</td>\n",
       "    </tr>\n",
       "    <tr>\n",
       "      <th>mean</th>\n",
       "      <td>NaN</td>\n",
       "      <td>NaN</td>\n",
       "      <td>NaN</td>\n",
       "      <td>NaN</td>\n",
       "      <td>NaN</td>\n",
       "      <td>NaN</td>\n",
       "      <td>5403.459283</td>\n",
       "      <td>1621.245798</td>\n",
       "      <td>146.412162</td>\n",
       "      <td>342.00000</td>\n",
       "      <td>0.842199</td>\n",
       "      <td>NaN</td>\n",
       "      <td>NaN</td>\n",
       "    </tr>\n",
       "    <tr>\n",
       "      <th>std</th>\n",
       "      <td>NaN</td>\n",
       "      <td>NaN</td>\n",
       "      <td>NaN</td>\n",
       "      <td>NaN</td>\n",
       "      <td>NaN</td>\n",
       "      <td>NaN</td>\n",
       "      <td>6109.041673</td>\n",
       "      <td>2926.248369</td>\n",
       "      <td>85.587325</td>\n",
       "      <td>65.12041</td>\n",
       "      <td>0.364878</td>\n",
       "      <td>NaN</td>\n",
       "      <td>NaN</td>\n",
       "    </tr>\n",
       "    <tr>\n",
       "      <th>min</th>\n",
       "      <td>NaN</td>\n",
       "      <td>NaN</td>\n",
       "      <td>NaN</td>\n",
       "      <td>NaN</td>\n",
       "      <td>NaN</td>\n",
       "      <td>NaN</td>\n",
       "      <td>150.000000</td>\n",
       "      <td>0.000000</td>\n",
       "      <td>9.000000</td>\n",
       "      <td>12.00000</td>\n",
       "      <td>0.000000</td>\n",
       "      <td>NaN</td>\n",
       "      <td>NaN</td>\n",
       "    </tr>\n",
       "    <tr>\n",
       "      <th>25%</th>\n",
       "      <td>NaN</td>\n",
       "      <td>NaN</td>\n",
       "      <td>NaN</td>\n",
       "      <td>NaN</td>\n",
       "      <td>NaN</td>\n",
       "      <td>NaN</td>\n",
       "      <td>2877.500000</td>\n",
       "      <td>0.000000</td>\n",
       "      <td>100.000000</td>\n",
       "      <td>360.00000</td>\n",
       "      <td>1.000000</td>\n",
       "      <td>NaN</td>\n",
       "      <td>NaN</td>\n",
       "    </tr>\n",
       "    <tr>\n",
       "      <th>50%</th>\n",
       "      <td>NaN</td>\n",
       "      <td>NaN</td>\n",
       "      <td>NaN</td>\n",
       "      <td>NaN</td>\n",
       "      <td>NaN</td>\n",
       "      <td>NaN</td>\n",
       "      <td>3812.500000</td>\n",
       "      <td>1188.500000</td>\n",
       "      <td>128.000000</td>\n",
       "      <td>360.00000</td>\n",
       "      <td>1.000000</td>\n",
       "      <td>NaN</td>\n",
       "      <td>NaN</td>\n",
       "    </tr>\n",
       "    <tr>\n",
       "      <th>75%</th>\n",
       "      <td>NaN</td>\n",
       "      <td>NaN</td>\n",
       "      <td>NaN</td>\n",
       "      <td>NaN</td>\n",
       "      <td>NaN</td>\n",
       "      <td>NaN</td>\n",
       "      <td>5795.000000</td>\n",
       "      <td>2297.250000</td>\n",
       "      <td>168.000000</td>\n",
       "      <td>360.00000</td>\n",
       "      <td>1.000000</td>\n",
       "      <td>NaN</td>\n",
       "      <td>NaN</td>\n",
       "    </tr>\n",
       "    <tr>\n",
       "      <th>max</th>\n",
       "      <td>NaN</td>\n",
       "      <td>NaN</td>\n",
       "      <td>NaN</td>\n",
       "      <td>NaN</td>\n",
       "      <td>NaN</td>\n",
       "      <td>NaN</td>\n",
       "      <td>81000.000000</td>\n",
       "      <td>41667.000000</td>\n",
       "      <td>700.000000</td>\n",
       "      <td>480.00000</td>\n",
       "      <td>1.000000</td>\n",
       "      <td>NaN</td>\n",
       "      <td>NaN</td>\n",
       "    </tr>\n",
       "  </tbody>\n",
       "</table>\n",
       "</div>"
      ],
      "text/plain": [
       "         Loan_ID Gender Married Dependents Education Self_Employed  \\\n",
       "count        614    601     611        599       614           582   \n",
       "unique       614      2       2          4         2             2   \n",
       "top     LP002820   Male     Yes          0  Graduate            No   \n",
       "freq           1    489     398        345       480           500   \n",
       "mean         NaN    NaN     NaN        NaN       NaN           NaN   \n",
       "std          NaN    NaN     NaN        NaN       NaN           NaN   \n",
       "min          NaN    NaN     NaN        NaN       NaN           NaN   \n",
       "25%          NaN    NaN     NaN        NaN       NaN           NaN   \n",
       "50%          NaN    NaN     NaN        NaN       NaN           NaN   \n",
       "75%          NaN    NaN     NaN        NaN       NaN           NaN   \n",
       "max          NaN    NaN     NaN        NaN       NaN           NaN   \n",
       "\n",
       "        ApplicantIncome  CoapplicantIncome  LoanAmount  Loan_Amount_Term  \\\n",
       "count        614.000000         614.000000  592.000000         600.00000   \n",
       "unique              NaN                NaN         NaN               NaN   \n",
       "top                 NaN                NaN         NaN               NaN   \n",
       "freq                NaN                NaN         NaN               NaN   \n",
       "mean        5403.459283        1621.245798  146.412162         342.00000   \n",
       "std         6109.041673        2926.248369   85.587325          65.12041   \n",
       "min          150.000000           0.000000    9.000000          12.00000   \n",
       "25%         2877.500000           0.000000  100.000000         360.00000   \n",
       "50%         3812.500000        1188.500000  128.000000         360.00000   \n",
       "75%         5795.000000        2297.250000  168.000000         360.00000   \n",
       "max        81000.000000       41667.000000  700.000000         480.00000   \n",
       "\n",
       "        Credit_History Property_Area Loan_Status  \n",
       "count       564.000000           614         614  \n",
       "unique             NaN             3           2  \n",
       "top                NaN     Semiurban           Y  \n",
       "freq               NaN           233         422  \n",
       "mean          0.842199           NaN         NaN  \n",
       "std           0.364878           NaN         NaN  \n",
       "min           0.000000           NaN         NaN  \n",
       "25%           1.000000           NaN         NaN  \n",
       "50%           1.000000           NaN         NaN  \n",
       "75%           1.000000           NaN         NaN  \n",
       "max           1.000000           NaN         NaN  "
      ]
     },
     "execution_count": 6,
     "metadata": {},
     "output_type": "execute_result"
    }
   ],
   "source": [
    "#finding the statistical measures like mean median and mode\n",
    "df_train.describe(include='all')"
   ]
  },
  {
   "cell_type": "code",
   "execution_count": 7,
   "metadata": {},
   "outputs": [],
   "source": [
    "nan_features = [feature for feature in df_train.columns if df_train[feature].isnull().sum()] "
   ]
  },
  {
   "cell_type": "code",
   "execution_count": 8,
   "metadata": {},
   "outputs": [
    {
     "data": {
      "text/plain": [
       "['Gender',\n",
       " 'Married',\n",
       " 'Dependents',\n",
       " 'Self_Employed',\n",
       " 'LoanAmount',\n",
       " 'Loan_Amount_Term',\n",
       " 'Credit_History']"
      ]
     },
     "execution_count": 8,
     "metadata": {},
     "output_type": "execute_result"
    }
   ],
   "source": [
    "nan_features"
   ]
  },
  {
   "cell_type": "code",
   "execution_count": 9,
   "metadata": {},
   "outputs": [
    {
     "name": "stdout",
     "output_type": "stream",
     "text": [
      "Gender has  2.1 % missing values\n",
      "Married has  0.5 % missing values\n",
      "Dependents has  2.4 % missing values\n",
      "Self_Employed has  5.2 % missing values\n",
      "LoanAmount has  3.6 % missing values\n",
      "Loan_Amount_Term has  2.3 % missing values\n",
      "Credit_History has  8.1 % missing values\n"
     ]
    }
   ],
   "source": [
    "# percentage of the missing values\n",
    "for feature in nan_features:\n",
    "    print(feature, 'has ',round(100*(df_train[feature].isnull().sum()/len(df_train[feature].index)),1), '% missing values')"
   ]
  },
  {
   "cell_type": "code",
   "execution_count": 10,
   "metadata": {},
   "outputs": [
    {
     "name": "stdout",
     "output_type": "stream",
     "text": [
      "There is 8 categorical features including:\n",
      "['Loan_ID', 'Gender', 'Married', 'Dependents', 'Education', 'Self_Employed', 'Property_Area', 'Loan_Status']\n"
     ]
    }
   ],
   "source": [
    "df_categ = df_train.select_dtypes(include = ['O'])\n",
    "print('There is {} categorical features including:\\n{}'.format(len(df_categ.columns), df_categ.columns.tolist()))"
   ]
  },
  {
   "cell_type": "code",
   "execution_count": 11,
   "metadata": {},
   "outputs": [
    {
     "name": "stdout",
     "output_type": "stream",
     "text": [
      "['ApplicantIncome', 'CoapplicantIncome', 'LoanAmount', 'Loan_Amount_Term', 'Credit_History']\n"
     ]
    }
   ],
   "source": [
    "num_features = [feature for feature in df_train.columns if df_train[feature].dtypes != 'O']\n",
    "\n",
    "print(num_features)"
   ]
  },
  {
   "cell_type": "code",
   "execution_count": 12,
   "metadata": {},
   "outputs": [],
   "source": [
    "# filling the nan values for multiple categorical columns\n",
    "for col in df_categ:\n",
    "    df_train[col] = df_train[col].fillna(df_train[col].value_counts().idxmax())"
   ]
  },
  {
   "cell_type": "code",
   "execution_count": 13,
   "metadata": {},
   "outputs": [
    {
     "data": {
      "text/plain": [
       "Loan_ID               0\n",
       "Gender                0\n",
       "Married               0\n",
       "Dependents            0\n",
       "Education             0\n",
       "Self_Employed         0\n",
       "ApplicantIncome       0\n",
       "CoapplicantIncome     0\n",
       "LoanAmount           22\n",
       "Loan_Amount_Term     14\n",
       "Credit_History       50\n",
       "Property_Area         0\n",
       "Loan_Status           0\n",
       "dtype: int64"
      ]
     },
     "execution_count": 13,
     "metadata": {},
     "output_type": "execute_result"
    }
   ],
   "source": [
    "df_train.isnull().sum()"
   ]
  },
  {
   "cell_type": "code",
   "execution_count": 14,
   "metadata": {},
   "outputs": [],
   "source": [
    "# filling the nan values for multiple numerical columns\n",
    "for col in num_features:\n",
    "    df_train[col] = df_train[col].fillna(df_train[col].median())"
   ]
  },
  {
   "cell_type": "code",
   "execution_count": 15,
   "metadata": {},
   "outputs": [
    {
     "data": {
      "text/plain": [
       "Loan_ID              0\n",
       "Gender               0\n",
       "Married              0\n",
       "Dependents           0\n",
       "Education            0\n",
       "Self_Employed        0\n",
       "ApplicantIncome      0\n",
       "CoapplicantIncome    0\n",
       "LoanAmount           0\n",
       "Loan_Amount_Term     0\n",
       "Credit_History       0\n",
       "Property_Area        0\n",
       "Loan_Status          0\n",
       "dtype: int64"
      ]
     },
     "execution_count": 15,
     "metadata": {},
     "output_type": "execute_result"
    }
   ],
   "source": [
    "df_train.isnull().sum()"
   ]
  },
  {
   "cell_type": "code",
   "execution_count": 16,
   "metadata": {},
   "outputs": [],
   "source": [
    "df_train.to_excel('final_train.xlsx')"
   ]
  },
  {
   "cell_type": "code",
   "execution_count": 17,
   "metadata": {},
   "outputs": [
    {
     "data": {
      "text/plain": [
       "<seaborn.axisgrid.PairGrid at 0x1a0590fdfd0>"
      ]
     },
     "execution_count": 17,
     "metadata": {},
     "output_type": "execute_result"
    },
    {
     "data": {
      "image/png": "[encoded data removed]",
      "text/plain": [
       "<Figure size 968.75x900 with 30 Axes>"
      ]
     },
     "metadata": {
      "needs_background": "light"
     },
     "output_type": "display_data"
    }
   ],
   "source": [
    "#pair plot for data set as Loan status taking as  A hue\n",
    "sns.pairplot(df_train,hue = 'Loan_Status')"
   ]
  },
  {
   "cell_type": "code",
   "execution_count": 18,
   "metadata": {},
   "outputs": [
    {
     "data": {
      "text/html": [
       "<div>\n",
       "<style scoped>\n",
       "    .dataframe tbody tr th:only-of-type {\n",
       "        vertical-align: middle;\n",
       "    }\n",
       "\n",
       "    .dataframe tbody tr th {\n",
       "        vertical-align: top;\n",
       "    }\n",
       "\n",
       "    .dataframe thead th {\n",
       "        text-align: right;\n",
       "    }\n",
       "</style>\n",
       "<table border=\"1\" class=\"dataframe\">\n",
       "  <thead>\n",
       "    <tr style=\"text-align: right;\">\n",
       "      <th></th>\n",
       "      <th>ApplicantIncome</th>\n",
       "      <th>CoapplicantIncome</th>\n",
       "      <th>LoanAmount</th>\n",
       "      <th>Loan_Amount_Term</th>\n",
       "      <th>Credit_History</th>\n",
       "    </tr>\n",
       "  </thead>\n",
       "  <tbody>\n",
       "    <tr>\n",
       "      <th>ApplicantIncome</th>\n",
       "      <td>1.000000</td>\n",
       "      <td>-0.116605</td>\n",
       "      <td>0.565181</td>\n",
       "      <td>-0.046531</td>\n",
       "      <td>-0.018615</td>\n",
       "    </tr>\n",
       "    <tr>\n",
       "      <th>CoapplicantIncome</th>\n",
       "      <td>-0.116605</td>\n",
       "      <td>1.000000</td>\n",
       "      <td>0.189218</td>\n",
       "      <td>-0.059383</td>\n",
       "      <td>0.011134</td>\n",
       "    </tr>\n",
       "    <tr>\n",
       "      <th>LoanAmount</th>\n",
       "      <td>0.565181</td>\n",
       "      <td>0.189218</td>\n",
       "      <td>1.000000</td>\n",
       "      <td>0.036960</td>\n",
       "      <td>-0.000607</td>\n",
       "    </tr>\n",
       "    <tr>\n",
       "      <th>Loan_Amount_Term</th>\n",
       "      <td>-0.046531</td>\n",
       "      <td>-0.059383</td>\n",
       "      <td>0.036960</td>\n",
       "      <td>1.000000</td>\n",
       "      <td>-0.004705</td>\n",
       "    </tr>\n",
       "    <tr>\n",
       "      <th>Credit_History</th>\n",
       "      <td>-0.018615</td>\n",
       "      <td>0.011134</td>\n",
       "      <td>-0.000607</td>\n",
       "      <td>-0.004705</td>\n",
       "      <td>1.000000</td>\n",
       "    </tr>\n",
       "  </tbody>\n",
       "</table>\n",
       "</div>"
      ],
      "text/plain": [
       "                   ApplicantIncome  CoapplicantIncome  LoanAmount  \\\n",
       "ApplicantIncome           1.000000          -0.116605    0.565181   \n",
       "CoapplicantIncome        -0.116605           1.000000    0.189218   \n",
       "LoanAmount                0.565181           0.189218    1.000000   \n",
       "Loan_Amount_Term         -0.046531          -0.059383    0.036960   \n",
       "Credit_History           -0.018615           0.011134   -0.000607   \n",
       "\n",
       "                   Loan_Amount_Term  Credit_History  \n",
       "ApplicantIncome           -0.046531       -0.018615  \n",
       "CoapplicantIncome         -0.059383        0.011134  \n",
       "LoanAmount                 0.036960       -0.000607  \n",
       "Loan_Amount_Term           1.000000       -0.004705  \n",
       "Credit_History            -0.004705        1.000000  "
      ]
     },
     "execution_count": 18,
     "metadata": {},
     "output_type": "execute_result"
    }
   ],
   "source": [
    "df_train.corr()"
   ]
  },
  {
   "cell_type": "code",
   "execution_count": 19,
   "metadata": {},
   "outputs": [
    {
     "data": {
      "image/png": "[encoded data removed]",
      "text/plain": [
       "<Figure size 432x288 with 2 Axes>"
      ]
     },
     "metadata": {
      "needs_background": "light"
     },
     "output_type": "display_data"
    }
   ],
   "source": [
    "sns.heatmap(df_train.corr(),annot=True)\n",
    "plt.show()"
   ]
  },
  {
   "cell_type": "code",
   "execution_count": 20,
   "metadata": {},
   "outputs": [
    {
     "data": {
      "text/plain": [
       "<matplotlib.axes._subplots.AxesSubplot at 0x1a05a8839e8>"
      ]
     },
     "execution_count": 20,
     "metadata": {},
     "output_type": "execute_result"
    },
    {
     "data": {
      "image/png": "[encoded data removed]",
      "text/plain": [
       "<Figure size 432x288 with 1 Axes>"
      ]
     },
     "metadata": {
      "needs_background": "light"
     },
     "output_type": "display_data"
    }
   ],
   "source": [
    "sns.countplot(df_train.Loan_Status)"
   ]
  },
  {
   "cell_type": "code",
   "execution_count": 21,
   "metadata": {},
   "outputs": [
    {
     "data": {
      "text/html": [
       "<div>\n",
       "<style scoped>\n",
       "    .dataframe tbody tr th:only-of-type {\n",
       "        vertical-align: middle;\n",
       "    }\n",
       "\n",
       "    .dataframe tbody tr th {\n",
       "        vertical-align: top;\n",
       "    }\n",
       "\n",
       "    .dataframe thead th {\n",
       "        text-align: right;\n",
       "    }\n",
       "</style>\n",
       "<table border=\"1\" class=\"dataframe\">\n",
       "  <thead>\n",
       "    <tr style=\"text-align: right;\">\n",
       "      <th></th>\n",
       "      <th>Loan_Status</th>\n",
       "      <th>N</th>\n",
       "      <th>Y</th>\n",
       "    </tr>\n",
       "    <tr>\n",
       "      <th>Credit_History</th>\n",
       "      <th>Gender</th>\n",
       "      <th></th>\n",
       "      <th></th>\n",
       "    </tr>\n",
       "  </thead>\n",
       "  <tbody>\n",
       "    <tr>\n",
       "      <th rowspan=\"2\" valign=\"top\">0.0</th>\n",
       "      <th>Female</th>\n",
       "      <td>16</td>\n",
       "      <td>1</td>\n",
       "    </tr>\n",
       "    <tr>\n",
       "      <th>Male</th>\n",
       "      <td>66</td>\n",
       "      <td>6</td>\n",
       "    </tr>\n",
       "    <tr>\n",
       "      <th rowspan=\"2\" valign=\"top\">1.0</th>\n",
       "      <th>Female</th>\n",
       "      <td>21</td>\n",
       "      <td>74</td>\n",
       "    </tr>\n",
       "    <tr>\n",
       "      <th>Male</th>\n",
       "      <td>89</td>\n",
       "      <td>341</td>\n",
       "    </tr>\n",
       "  </tbody>\n",
       "</table>\n",
       "</div>"
      ],
      "text/plain": [
       "Loan_Status             N    Y\n",
       "Credit_History Gender         \n",
       "0.0            Female  16    1\n",
       "               Male    66    6\n",
       "1.0            Female  21   74\n",
       "               Male    89  341"
      ]
     },
     "execution_count": 21,
     "metadata": {},
     "output_type": "execute_result"
    }
   ],
   "source": [
    "stack_gender=pd.crosstab([df_train['Credit_History'],df_train['Gender']],df_train['Loan_Status'])\n",
    "stack_gender"
   ]
  },
  {
   "cell_type": "code",
   "execution_count": 22,
   "metadata": {},
   "outputs": [
    {
     "data": {
      "text/plain": [
       "<matplotlib.axes._subplots.AxesSubplot at 0x1a05a8d9588>"
      ]
     },
     "execution_count": 22,
     "metadata": {},
     "output_type": "execute_result"
    },
    {
     "data": {
      "image/png": "[encoded data removed]",
      "text/plain": [
       "<Figure size 432x288 with 1 Axes>"
      ]
     },
     "metadata": {
      "needs_background": "light"
     },
     "output_type": "display_data"
    }
   ],
   "source": [
    "stack_gender.plot(kind='bar',stacked=False,grid=False)"
   ]
  },
  {
   "cell_type": "code",
   "execution_count": 23,
   "metadata": {},
   "outputs": [
    {
     "data": {
      "image/png": "[encoded data removed]",
      "text/plain": [
       "<Figure size 1080x720 with 5 Axes>"
      ]
     },
     "metadata": {
      "needs_background": "light"
     },
     "output_type": "display_data"
    }
   ],
   "source": [
    "fig = plt.figure(figsize = (15, 10))\n",
    "j=0\n",
    "for i in num_features:\n",
    "    plt.subplot(3, 3, j+1)\n",
    "    j +=1\n",
    "    sns.distplot(df_train[i])\n",
    "plt.show()"
   ]
  },
  {
   "cell_type": "code",
   "execution_count": 24,
   "metadata": {},
   "outputs": [
    {
     "data": {
      "text/html": [
       "<div>\n",
       "<style scoped>\n",
       "    .dataframe tbody tr th:only-of-type {\n",
       "        vertical-align: middle;\n",
       "    }\n",
       "\n",
       "    .dataframe tbody tr th {\n",
       "        vertical-align: top;\n",
       "    }\n",
       "\n",
       "    .dataframe thead th {\n",
       "        text-align: right;\n",
       "    }\n",
       "</style>\n",
       "<table border=\"1\" class=\"dataframe\">\n",
       "  <thead>\n",
       "    <tr style=\"text-align: right;\">\n",
       "      <th></th>\n",
       "      <th>Loan_ID</th>\n",
       "      <th>Gender</th>\n",
       "      <th>Married</th>\n",
       "      <th>Dependents</th>\n",
       "      <th>Education</th>\n",
       "      <th>Self_Employed</th>\n",
       "      <th>ApplicantIncome</th>\n",
       "      <th>CoapplicantIncome</th>\n",
       "      <th>LoanAmount</th>\n",
       "      <th>Loan_Amount_Term</th>\n",
       "      <th>Credit_History</th>\n",
       "      <th>Property_Area</th>\n",
       "      <th>Loan_Status</th>\n",
       "    </tr>\n",
       "  </thead>\n",
       "  <tbody>\n",
       "    <tr>\n",
       "      <th>0</th>\n",
       "      <td>LP001002</td>\n",
       "      <td>Male</td>\n",
       "      <td>No</td>\n",
       "      <td>0</td>\n",
       "      <td>Graduate</td>\n",
       "      <td>No</td>\n",
       "      <td>5849</td>\n",
       "      <td>0.0</td>\n",
       "      <td>128.0</td>\n",
       "      <td>360.0</td>\n",
       "      <td>1.0</td>\n",
       "      <td>Urban</td>\n",
       "      <td>1</td>\n",
       "    </tr>\n",
       "    <tr>\n",
       "      <th>1</th>\n",
       "      <td>LP001003</td>\n",
       "      <td>Male</td>\n",
       "      <td>Yes</td>\n",
       "      <td>1</td>\n",
       "      <td>Graduate</td>\n",
       "      <td>No</td>\n",
       "      <td>4583</td>\n",
       "      <td>1508.0</td>\n",
       "      <td>128.0</td>\n",
       "      <td>360.0</td>\n",
       "      <td>1.0</td>\n",
       "      <td>Rural</td>\n",
       "      <td>0</td>\n",
       "    </tr>\n",
       "    <tr>\n",
       "      <th>2</th>\n",
       "      <td>LP001005</td>\n",
       "      <td>Male</td>\n",
       "      <td>Yes</td>\n",
       "      <td>0</td>\n",
       "      <td>Graduate</td>\n",
       "      <td>Yes</td>\n",
       "      <td>3000</td>\n",
       "      <td>0.0</td>\n",
       "      <td>66.0</td>\n",
       "      <td>360.0</td>\n",
       "      <td>1.0</td>\n",
       "      <td>Urban</td>\n",
       "      <td>1</td>\n",
       "    </tr>\n",
       "    <tr>\n",
       "      <th>3</th>\n",
       "      <td>LP001006</td>\n",
       "      <td>Male</td>\n",
       "      <td>Yes</td>\n",
       "      <td>0</td>\n",
       "      <td>Not Graduate</td>\n",
       "      <td>No</td>\n",
       "      <td>2583</td>\n",
       "      <td>2358.0</td>\n",
       "      <td>120.0</td>\n",
       "      <td>360.0</td>\n",
       "      <td>1.0</td>\n",
       "      <td>Urban</td>\n",
       "      <td>1</td>\n",
       "    </tr>\n",
       "    <tr>\n",
       "      <th>4</th>\n",
       "      <td>LP001008</td>\n",
       "      <td>Male</td>\n",
       "      <td>No</td>\n",
       "      <td>0</td>\n",
       "      <td>Graduate</td>\n",
       "      <td>No</td>\n",
       "      <td>6000</td>\n",
       "      <td>0.0</td>\n",
       "      <td>141.0</td>\n",
       "      <td>360.0</td>\n",
       "      <td>1.0</td>\n",
       "      <td>Urban</td>\n",
       "      <td>1</td>\n",
       "    </tr>\n",
       "  </tbody>\n",
       "</table>\n",
       "</div>"
      ],
      "text/plain": [
       "    Loan_ID Gender Married Dependents     Education Self_Employed  \\\n",
       "0  LP001002   Male      No          0      Graduate            No   \n",
       "1  LP001003   Male     Yes          1      Graduate            No   \n",
       "2  LP001005   Male     Yes          0      Graduate           Yes   \n",
       "3  LP001006   Male     Yes          0  Not Graduate            No   \n",
       "4  LP001008   Male      No          0      Graduate            No   \n",
       "\n",
       "   ApplicantIncome  CoapplicantIncome  LoanAmount  Loan_Amount_Term  \\\n",
       "0             5849                0.0       128.0             360.0   \n",
       "1             4583             1508.0       128.0             360.0   \n",
       "2             3000                0.0        66.0             360.0   \n",
       "3             2583             2358.0       120.0             360.0   \n",
       "4             6000                0.0       141.0             360.0   \n",
       "\n",
       "   Credit_History Property_Area  Loan_Status  \n",
       "0             1.0         Urban            1  \n",
       "1             1.0         Rural            0  \n",
       "2             1.0         Urban            1  \n",
       "3             1.0         Urban            1  \n",
       "4             1.0         Urban            1  "
      ]
     },
     "execution_count": 24,
     "metadata": {},
     "output_type": "execute_result"
    }
   ],
   "source": [
    "df_train.Loan_Status = df_train.Loan_Status.replace(to_replace = 'Y',value = 1)\n",
    "df_train.Loan_Status = df_train.Loan_Status.replace(to_replace = 'N',value = 0)\n",
    "df_train.head()"
   ]
  },
  {
   "cell_type": "code",
   "execution_count": 25,
   "metadata": {},
   "outputs": [],
   "source": [
    "from sklearn.model_selection import train_test_split\n",
    "from sklearn.tree import DecisionTreeClassifier\n",
    "from sklearn.ensemble import RandomForestClassifier\n",
    "from sklearn.preprocessing import StandardScaler\n",
    "from sklearn.metrics import accuracy_score,confusion_matrix,classification_report"
   ]
  },
  {
   "cell_type": "code",
   "execution_count": 26,
   "metadata": {},
   "outputs": [
    {
     "data": {
      "text/plain": [
       "0      1\n",
       "1      0\n",
       "2      1\n",
       "3      1\n",
       "4      1\n",
       "      ..\n",
       "609    1\n",
       "610    1\n",
       "611    1\n",
       "612    1\n",
       "613    0\n",
       "Name: Loan_Status, Length: 614, dtype: int64"
      ]
     },
     "execution_count": 26,
     "metadata": {},
     "output_type": "execute_result"
    }
   ],
   "source": [
    "X = df_train.drop(columns = ['Loan_ID','Loan_Status'],axis = 1)\n",
    "y = df_train['Loan_Status']\n",
    "y"
   ]
  },
  {
   "cell_type": "code",
   "execution_count": 27,
   "metadata": {},
   "outputs": [],
   "source": [
    "Xd = pd.get_dummies(X)\n"
   ]
  },
  {
   "cell_type": "code",
   "execution_count": 28,
   "metadata": {},
   "outputs": [
    {
     "data": {
      "text/html": [
       "<div>\n",
       "<style scoped>\n",
       "    .dataframe tbody tr th:only-of-type {\n",
       "        vertical-align: middle;\n",
       "    }\n",
       "\n",
       "    .dataframe tbody tr th {\n",
       "        vertical-align: top;\n",
       "    }\n",
       "\n",
       "    .dataframe thead th {\n",
       "        text-align: right;\n",
       "    }\n",
       "</style>\n",
       "<table border=\"1\" class=\"dataframe\">\n",
       "  <thead>\n",
       "    <tr style=\"text-align: right;\">\n",
       "      <th></th>\n",
       "      <th>ApplicantIncome</th>\n",
       "      <th>CoapplicantIncome</th>\n",
       "      <th>LoanAmount</th>\n",
       "      <th>Loan_Amount_Term</th>\n",
       "      <th>Credit_History</th>\n",
       "      <th>Gender_Female</th>\n",
       "      <th>Gender_Male</th>\n",
       "      <th>Married_No</th>\n",
       "      <th>Married_Yes</th>\n",
       "      <th>Dependents_0</th>\n",
       "      <th>Dependents_1</th>\n",
       "      <th>Dependents_2</th>\n",
       "      <th>Dependents_3+</th>\n",
       "      <th>Education_Graduate</th>\n",
       "      <th>Education_Not Graduate</th>\n",
       "      <th>Self_Employed_No</th>\n",
       "      <th>Self_Employed_Yes</th>\n",
       "      <th>Property_Area_Rural</th>\n",
       "      <th>Property_Area_Semiurban</th>\n",
       "      <th>Property_Area_Urban</th>\n",
       "    </tr>\n",
       "  </thead>\n",
       "  <tbody>\n",
       "    <tr>\n",
       "      <th>0</th>\n",
       "      <td>0.072991</td>\n",
       "      <td>-0.554487</td>\n",
       "      <td>-0.211241</td>\n",
       "      <td>0.273231</td>\n",
       "      <td>0.411733</td>\n",
       "      <td>-0.472343</td>\n",
       "      <td>0.472343</td>\n",
       "      <td>1.372089</td>\n",
       "      <td>-1.372089</td>\n",
       "      <td>0.839974</td>\n",
       "      <td>-0.446339</td>\n",
       "      <td>-0.443713</td>\n",
       "      <td>-0.300975</td>\n",
       "      <td>0.528362</td>\n",
       "      <td>-0.528362</td>\n",
       "      <td>0.392601</td>\n",
       "      <td>-0.392601</td>\n",
       "      <td>-0.641478</td>\n",
       "      <td>-0.782016</td>\n",
       "      <td>1.428147</td>\n",
       "    </tr>\n",
       "    <tr>\n",
       "      <th>1</th>\n",
       "      <td>-0.134412</td>\n",
       "      <td>-0.038732</td>\n",
       "      <td>-0.211241</td>\n",
       "      <td>0.273231</td>\n",
       "      <td>0.411733</td>\n",
       "      <td>-0.472343</td>\n",
       "      <td>0.472343</td>\n",
       "      <td>-0.728816</td>\n",
       "      <td>0.728816</td>\n",
       "      <td>-1.190514</td>\n",
       "      <td>2.240448</td>\n",
       "      <td>-0.443713</td>\n",
       "      <td>-0.300975</td>\n",
       "      <td>0.528362</td>\n",
       "      <td>-0.528362</td>\n",
       "      <td>0.392601</td>\n",
       "      <td>-0.392601</td>\n",
       "      <td>1.558899</td>\n",
       "      <td>-0.782016</td>\n",
       "      <td>-0.700208</td>\n",
       "    </tr>\n",
       "    <tr>\n",
       "      <th>2</th>\n",
       "      <td>-0.393747</td>\n",
       "      <td>-0.554487</td>\n",
       "      <td>-0.948996</td>\n",
       "      <td>0.273231</td>\n",
       "      <td>0.411733</td>\n",
       "      <td>-0.472343</td>\n",
       "      <td>0.472343</td>\n",
       "      <td>-0.728816</td>\n",
       "      <td>0.728816</td>\n",
       "      <td>0.839974</td>\n",
       "      <td>-0.446339</td>\n",
       "      <td>-0.443713</td>\n",
       "      <td>-0.300975</td>\n",
       "      <td>0.528362</td>\n",
       "      <td>-0.528362</td>\n",
       "      <td>-2.547117</td>\n",
       "      <td>2.547117</td>\n",
       "      <td>-0.641478</td>\n",
       "      <td>-0.782016</td>\n",
       "      <td>1.428147</td>\n",
       "    </tr>\n",
       "    <tr>\n",
       "      <th>3</th>\n",
       "      <td>-0.462062</td>\n",
       "      <td>0.251980</td>\n",
       "      <td>-0.306435</td>\n",
       "      <td>0.273231</td>\n",
       "      <td>0.411733</td>\n",
       "      <td>-0.472343</td>\n",
       "      <td>0.472343</td>\n",
       "      <td>-0.728816</td>\n",
       "      <td>0.728816</td>\n",
       "      <td>0.839974</td>\n",
       "      <td>-0.446339</td>\n",
       "      <td>-0.443713</td>\n",
       "      <td>-0.300975</td>\n",
       "      <td>-1.892641</td>\n",
       "      <td>1.892641</td>\n",
       "      <td>0.392601</td>\n",
       "      <td>-0.392601</td>\n",
       "      <td>-0.641478</td>\n",
       "      <td>-0.782016</td>\n",
       "      <td>1.428147</td>\n",
       "    </tr>\n",
       "    <tr>\n",
       "      <th>4</th>\n",
       "      <td>0.097728</td>\n",
       "      <td>-0.554487</td>\n",
       "      <td>-0.056551</td>\n",
       "      <td>0.273231</td>\n",
       "      <td>0.411733</td>\n",
       "      <td>-0.472343</td>\n",
       "      <td>0.472343</td>\n",
       "      <td>1.372089</td>\n",
       "      <td>-1.372089</td>\n",
       "      <td>0.839974</td>\n",
       "      <td>-0.446339</td>\n",
       "      <td>-0.443713</td>\n",
       "      <td>-0.300975</td>\n",
       "      <td>0.528362</td>\n",
       "      <td>-0.528362</td>\n",
       "      <td>0.392601</td>\n",
       "      <td>-0.392601</td>\n",
       "      <td>-0.641478</td>\n",
       "      <td>-0.782016</td>\n",
       "      <td>1.428147</td>\n",
       "    </tr>\n",
       "  </tbody>\n",
       "</table>\n",
       "</div>"
      ],
      "text/plain": [
       "   ApplicantIncome  CoapplicantIncome  LoanAmount  Loan_Amount_Term  \\\n",
       "0         0.072991          -0.554487   -0.211241          0.273231   \n",
       "1        -0.134412          -0.038732   -0.211241          0.273231   \n",
       "2        -0.393747          -0.554487   -0.948996          0.273231   \n",
       "3        -0.462062           0.251980   -0.306435          0.273231   \n",
       "4         0.097728          -0.554487   -0.056551          0.273231   \n",
       "\n",
       "   Credit_History  Gender_Female  Gender_Male  Married_No  Married_Yes  \\\n",
       "0        0.411733      -0.472343     0.472343    1.372089    -1.372089   \n",
       "1        0.411733      -0.472343     0.472343   -0.728816     0.728816   \n",
       "2        0.411733      -0.472343     0.472343   -0.728816     0.728816   \n",
       "3        0.411733      -0.472343     0.472343   -0.728816     0.728816   \n",
       "4        0.411733      -0.472343     0.472343    1.372089    -1.372089   \n",
       "\n",
       "   Dependents_0  Dependents_1  Dependents_2  Dependents_3+  \\\n",
       "0      0.839974     -0.446339     -0.443713      -0.300975   \n",
       "1     -1.190514      2.240448     -0.443713      -0.300975   \n",
       "2      0.839974     -0.446339     -0.443713      -0.300975   \n",
       "3      0.839974     -0.446339     -0.443713      -0.300975   \n",
       "4      0.839974     -0.446339     -0.443713      -0.300975   \n",
       "\n",
       "   Education_Graduate  Education_Not Graduate  Self_Employed_No  \\\n",
       "0            0.528362               -0.528362          0.392601   \n",
       "1            0.528362               -0.528362          0.392601   \n",
       "2            0.528362               -0.528362         -2.547117   \n",
       "3           -1.892641                1.892641          0.392601   \n",
       "4            0.528362               -0.528362          0.392601   \n",
       "\n",
       "   Self_Employed_Yes  Property_Area_Rural  Property_Area_Semiurban  \\\n",
       "0          -0.392601            -0.641478                -0.782016   \n",
       "1          -0.392601             1.558899                -0.782016   \n",
       "2           2.547117            -0.641478                -0.782016   \n",
       "3          -0.392601            -0.641478                -0.782016   \n",
       "4          -0.392601            -0.641478                -0.782016   \n",
       "\n",
       "   Property_Area_Urban  \n",
       "0             1.428147  \n",
       "1            -0.700208  \n",
       "2             1.428147  \n",
       "3             1.428147  \n",
       "4             1.428147  "
      ]
     },
     "execution_count": 28,
     "metadata": {},
     "output_type": "execute_result"
    }
   ],
   "source": [
    "sc = StandardScaler()\n",
    "x = pd.DataFrame(sc.fit_transform(Xd), columns = Xd.columns)\n",
    "\n",
    "x.head()"
   ]
  },
  {
   "cell_type": "code",
   "execution_count": 29,
   "metadata": {},
   "outputs": [],
   "source": [
    "import imblearn\n",
    "from imblearn.over_sampling import SMOTE"
   ]
  },
  {
   "cell_type": "code",
   "execution_count": 30,
   "metadata": {},
   "outputs": [],
   "source": [
    "x_resmaple,y_resample = SMOTE().fit_resample(x,y)"
   ]
  },
  {
   "cell_type": "code",
   "execution_count": 31,
   "metadata": {},
   "outputs": [],
   "source": [
    "np.savez('DT.npz',x_resmaple,y_resample)"
   ]
  },
  {
   "cell_type": "code",
   "execution_count": 32,
   "metadata": {},
   "outputs": [
    {
     "data": {
      "text/plain": [
       "['arr_0', 'arr_1']"
      ]
     },
     "execution_count": 32,
     "metadata": {},
     "output_type": "execute_result"
    }
   ],
   "source": [
    "df_over = np.load('DT.npz')\n",
    "df_over.files"
   ]
  },
  {
   "cell_type": "code",
   "execution_count": 33,
   "metadata": {},
   "outputs": [],
   "source": [
    "x_over = df_over['arr_0']\n",
    "y_over = df_over['arr_1']\n"
   ]
  },
  {
   "cell_type": "code",
   "execution_count": 34,
   "metadata": {},
   "outputs": [
    {
     "name": "stdout",
     "output_type": "stream",
     "text": [
      "(675, 20) (169, 20) (675,) (169,)\n"
     ]
    }
   ],
   "source": [
    "X_train,X_test,y_train,y_test = train_test_split(x_over,y_over,test_size = 0.2,random_state = 4)\n",
    "print(X_train.shape,X_test.shape,y_train.shape,y_test.shape)\n"
   ]
  },
  {
   "cell_type": "code",
   "execution_count": 35,
   "metadata": {},
   "outputs": [],
   "source": [
    "from sklearn.ensemble import ExtraTreesClassifier\n",
    "extra_tree = ExtraTreesClassifier().fit(X_train,y_train)\n"
   ]
  },
  {
   "cell_type": "code",
   "execution_count": 36,
   "metadata": {},
   "outputs": [
    {
     "data": {
      "text/plain": [
       "<matplotlib.axes._subplots.AxesSubplot at 0x1a05c3c6748>"
      ]
     },
     "execution_count": 36,
     "metadata": {},
     "output_type": "execute_result"
    },
    {
     "data": {
      "image/png": "[encoded data removed]",
      "text/plain": [
       "<Figure size 432x288 with 1 Axes>"
      ]
     },
     "metadata": {
      "needs_background": "light"
     },
     "output_type": "display_data"
    }
   ],
   "source": [
    "imp_feat = pd.Series(extra_tree.feature_importances_, index = Xd.columns)\n",
    "imp_feat.nlargest(10).plot(kind = 'barh')"
   ]
  },
  {
   "cell_type": "code",
   "execution_count": 37,
   "metadata": {},
   "outputs": [
    {
     "data": {
      "text/plain": [
       "Dependents_2               0.013893\n",
       "Gender_Female              0.014304\n",
       "Self_Employed_Yes          0.015429\n",
       "Education_Not Graduate     0.015891\n",
       "Dependents_3+              0.016073\n",
       "Gender_Male                0.016089\n",
       "Education_Graduate         0.016656\n",
       "Self_Employed_No           0.016661\n",
       "Married_Yes                0.017373\n",
       "Married_No                 0.018914\n",
       "Dependents_1               0.023671\n",
       "Dependents_0               0.023919\n",
       "Property_Area_Urban        0.024902\n",
       "Property_Area_Rural        0.030682\n",
       "Loan_Amount_Term           0.039222\n",
       "Property_Area_Semiurban    0.041604\n",
       "CoapplicantIncome          0.106069\n",
       "ApplicantIncome            0.151027\n",
       "LoanAmount                 0.155118\n",
       "Credit_History             0.242503\n",
       "dtype: float64"
      ]
     },
     "execution_count": 37,
     "metadata": {},
     "output_type": "execute_result"
    }
   ],
   "source": [
    "imp_feat.sort_values()"
   ]
  },
  {
   "cell_type": "code",
   "execution_count": 38,
   "metadata": {},
   "outputs": [],
   "source": [
    "cols = ['Credit_History','LoanAmount','ApplicantIncome','CoapplicantIncome','Property_Area_Semiurban',\n",
    "       'Loan_Amount_Term','Property_Area_Rural','Dependents_0','Married_Yes','Dependents_2','Education_Graduate',\n",
    "       'Self_Employed_Yes','Gender_Female']"
   ]
  },
  {
   "cell_type": "markdown",
   "metadata": {},
   "source": [
    "### Decision Tree"
   ]
  },
  {
   "cell_type": "code",
   "execution_count": 39,
   "metadata": {},
   "outputs": [],
   "source": [
    "model_tree = DecisionTreeClassifier().fit(X_train,y_train)\n"
   ]
  },
  {
   "cell_type": "code",
   "execution_count": 40,
   "metadata": {},
   "outputs": [],
   "source": [
    "y_pred_tree = model_tree.predict(X_test)\n",
    "y_prob_tree = model_tree.predict_proba(X_test)"
   ]
  },
  {
   "cell_type": "code",
   "execution_count": 41,
   "metadata": {},
   "outputs": [],
   "source": [
    "from sklearn.metrics import mean_squared_error, accuracy_score, r2_score, mean_absolute_error\n",
    "from sklearn.metrics import confusion_matrix, classification_report\n",
    "from sklearn.metrics import cohen_kappa_score\n",
    "from sklearn.model_selection import train_test_split\n",
    "from sklearn.linear_model import LogisticRegression\n",
    "from sklearn.metrics import auc, roc_auc_score, roc_curve, recall_score\n",
    "\n",
    "from sklearn.neighbors import KNeighborsClassifier\n",
    "from sklearn.svm import SVC\n",
    "from sklearn.ensemble import AdaBoostClassifier, GradientBoostingClassifier\n",
    "from sklearn.naive_bayes import GaussianNB\n"
   ]
  },
  {
   "cell_type": "code",
   "execution_count": 42,
   "metadata": {},
   "outputs": [
    {
     "data": {
      "text/plain": [
       "<matplotlib.axes._subplots.AxesSubplot at 0x1a05a9bc6d8>"
      ]
     },
     "execution_count": 42,
     "metadata": {},
     "output_type": "execute_result"
    },
    {
     "data": {
      "image/png": "[encoded data removed]",
      "text/plain": [
       "<Figure size 432x288 with 1 Axes>"
      ]
     },
     "metadata": {
      "needs_background": "light"
     },
     "output_type": "display_data"
    }
   ],
   "source": [
    "cm = confusion_matrix(y_test,y_pred_tree)\n",
    "\n",
    "sns.heatmap(cm, annot= True, fmt = '.2g',cbar = False)"
   ]
  },
  {
   "cell_type": "code",
   "execution_count": 43,
   "metadata": {},
   "outputs": [
    {
     "name": "stdout",
     "output_type": "stream",
     "text": [
      "              precision    recall  f1-score   support\n",
      "\n",
      "           0       0.79      0.76      0.78        85\n",
      "           1       0.77      0.80      0.78        84\n",
      "\n",
      "    accuracy                           0.78       169\n",
      "   macro avg       0.78      0.78      0.78       169\n",
      "weighted avg       0.78      0.78      0.78       169\n",
      "\n"
     ]
    }
   ],
   "source": [
    "cr = classification_report(y_test,y_pred_tree)\n",
    "print(cr)"
   ]
  },
  {
   "cell_type": "code",
   "execution_count": null,
   "metadata": {},
   "outputs": [],
   "source": []
  },
  {
   "cell_type": "markdown",
   "metadata": {},
   "source": [
    "### Random Forest"
   ]
  },
  {
   "cell_type": "code",
   "execution_count": 44,
   "metadata": {},
   "outputs": [],
   "source": [
    "from sklearn.ensemble import RandomForestClassifier"
   ]
  },
  {
   "cell_type": "code",
   "execution_count": 45,
   "metadata": {},
   "outputs": [],
   "source": [
    "model_random = RandomForestClassifier(n_estimators=20, criterion='gini',\n",
    "                              max_features = 0.2)"
   ]
  },
  {
   "cell_type": "code",
   "execution_count": 46,
   "metadata": {},
   "outputs": [
    {
     "data": {
      "text/plain": [
       "RandomForestClassifier(bootstrap=True, ccp_alpha=0.0, class_weight=None,\n",
       "                       criterion='gini', max_depth=None, max_features=0.2,\n",
       "                       max_leaf_nodes=None, max_samples=None,\n",
       "                       min_impurity_decrease=0.0, min_impurity_split=None,\n",
       "                       min_samples_leaf=1, min_samples_split=2,\n",
       "                       min_weight_fraction_leaf=0.0, n_estimators=20,\n",
       "                       n_jobs=None, oob_score=False, random_state=None,\n",
       "                       verbose=0, warm_start=False)"
      ]
     },
     "execution_count": 46,
     "metadata": {},
     "output_type": "execute_result"
    }
   ],
   "source": [
    "model_random.fit(X_train,y_train)"
   ]
  },
  {
   "cell_type": "code",
   "execution_count": 47,
   "metadata": {},
   "outputs": [],
   "source": [
    "y_pred_rf = model_random.predict(X_test)"
   ]
  },
  {
   "cell_type": "code",
   "execution_count": 48,
   "metadata": {},
   "outputs": [
    {
     "data": {
      "text/plain": [
       "<matplotlib.axes._subplots.AxesSubplot at 0x1a05c4aa860>"
      ]
     },
     "execution_count": 48,
     "metadata": {},
     "output_type": "execute_result"
    },
    {
     "data": {
      "image/png": "[encoded data removed]",
      "text/plain": [
       "<Figure size 432x288 with 1 Axes>"
      ]
     },
     "metadata": {
      "needs_background": "light"
     },
     "output_type": "display_data"
    }
   ],
   "source": [
    "cm = confusion_matrix(y_test,y_pred_rf)\n",
    "sns.heatmap(cm,annot = True,fmt='.2g',cbar = False)"
   ]
  },
  {
   "cell_type": "code",
   "execution_count": 49,
   "metadata": {},
   "outputs": [
    {
     "name": "stdout",
     "output_type": "stream",
     "text": [
      "              precision    recall  f1-score   support\n",
      "\n",
      "           0       0.82      0.74      0.78        85\n",
      "           1       0.76      0.83      0.80        84\n",
      "\n",
      "    accuracy                           0.79       169\n",
      "   macro avg       0.79      0.79      0.79       169\n",
      "weighted avg       0.79      0.79      0.79       169\n",
      "\n"
     ]
    }
   ],
   "source": [
    "cr = classification_report(y_test,y_pred_rf)\n",
    "print(cr)"
   ]
  },
  {
   "cell_type": "code",
   "execution_count": 50,
   "metadata": {},
   "outputs": [
    {
     "name": "stdout",
     "output_type": "stream",
     "text": [
      "Kappa Score:  0.5741881298992161\n",
      "roc_auc_score:  0.7872549019607844\n"
     ]
    }
   ],
   "source": [
    "kappa_score = cohen_kappa_score(y_test,y_pred_rf)\n",
    "print('Kappa Score: ', kappa_score)\n",
    "\n",
    "AUC_score = roc_auc_score(y_test,y_pred_rf)\n",
    "print('roc_auc_score: ', AUC_score)"
   ]
  },
  {
   "cell_type": "code",
   "execution_count": null,
   "metadata": {},
   "outputs": [],
   "source": []
  },
  {
   "cell_type": "markdown",
   "metadata": {},
   "source": [
    "### Parameter Tuning GridSearch CV"
   ]
  },
  {
   "cell_type": "code",
   "execution_count": 51,
   "metadata": {},
   "outputs": [],
   "source": [
    "from sklearn.model_selection import GridSearchCV"
   ]
  },
  {
   "cell_type": "code",
   "execution_count": 52,
   "metadata": {},
   "outputs": [],
   "source": [
    "tuned_parameter = [{'n_estimators':[10,20,30],\n",
    "                   'criterion':['gini','entropy'],\n",
    "                   'max_depth':[10,15],\n",
    "                   'max_features':['sqrt','log2']}]"
   ]
  },
  {
   "cell_type": "code",
   "execution_count": 53,
   "metadata": {},
   "outputs": [],
   "source": [
    "model_tune = RandomForestClassifier()"
   ]
  },
  {
   "cell_type": "code",
   "execution_count": 54,
   "metadata": {},
   "outputs": [
    {
     "data": {
      "text/plain": [
       "GridSearchCV(cv=10, error_score=nan,\n",
       "             estimator=RandomForestClassifier(bootstrap=True, ccp_alpha=0.0,\n",
       "                                              class_weight=None,\n",
       "                                              criterion='gini', max_depth=None,\n",
       "                                              max_features='auto',\n",
       "                                              max_leaf_nodes=None,\n",
       "                                              max_samples=None,\n",
       "                                              min_impurity_decrease=0.0,\n",
       "                                              min_impurity_split=None,\n",
       "                                              min_samples_leaf=1,\n",
       "                                              min_samples_split=2,\n",
       "                                              min_weight_fraction_leaf=0.0,\n",
       "                                              n_estimators=100, n_jobs=None,\n",
       "                                              oob_score=False,\n",
       "                                              random_state=None, verbose=0,\n",
       "                                              warm_start=False),\n",
       "             iid='deprecated', n_jobs=None,\n",
       "             param_grid=[{'criterion': ['gini', 'entropy'],\n",
       "                          'max_depth': [10, 15],\n",
       "                          'max_features': ['sqrt', 'log2'],\n",
       "                          'n_estimators': [10, 20, 30]}],\n",
       "             pre_dispatch='2*n_jobs', refit=True, return_train_score=False,\n",
       "             scoring='roc_auc', verbose=0)"
      ]
     },
     "execution_count": 54,
     "metadata": {},
     "output_type": "execute_result"
    }
   ],
   "source": [
    "gridcv = GridSearchCV(model_tune,param_grid = tuned_parameter,cv = 10,\n",
    "                   scoring='roc_auc')\n",
    "gridcv.fit(X_train,y_train)"
   ]
  },
  {
   "cell_type": "code",
   "execution_count": 55,
   "metadata": {},
   "outputs": [],
   "source": [
    "y_prob_cv = gridcv.predict_proba(X_test)\n",
    "y_pred_cv = gridcv.predict(X_test)"
   ]
  },
  {
   "cell_type": "code",
   "execution_count": 56,
   "metadata": {},
   "outputs": [
    {
     "data": {
      "text/plain": [
       "Text(24.0, 0.5, 'True Values')"
      ]
     },
     "execution_count": 56,
     "metadata": {},
     "output_type": "execute_result"
    },
    {
     "data": {
      "image/png": "[encoded data removed]",
      "text/plain": [
       "<Figure size 360x216 with 1 Axes>"
      ]
     },
     "metadata": {
      "needs_background": "light"
     },
     "output_type": "display_data"
    }
   ],
   "source": [
    "cm = confusion_matrix(y_test,y_pred_cv)\n",
    "\n",
    "plt.figure(figsize = (5,3))\n",
    "\n",
    "sns.heatmap(cm,annot = True,fmt = '0.2f',xticklabels=['class-0','class-1'],\n",
    "           yticklabels=['class-0','class-1'],cbar=False)\n",
    "plt.xlabel('Predicted Values')\n",
    "plt.ylabel('True Values')"
   ]
  },
  {
   "cell_type": "code",
   "execution_count": 57,
   "metadata": {},
   "outputs": [
    {
     "name": "stdout",
     "output_type": "stream",
     "text": [
      "              precision    recall  f1-score   support\n",
      "\n",
      "           0       0.86      0.73      0.79        85\n",
      "           1       0.76      0.88      0.82        84\n",
      "\n",
      "    accuracy                           0.80       169\n",
      "   macro avg       0.81      0.81      0.80       169\n",
      "weighted avg       0.81      0.80      0.80       169\n",
      "\n"
     ]
    }
   ],
   "source": [
    "cr = classification_report(y_test,y_pred_cv)\n",
    "print(cr)"
   ]
  },
  {
   "cell_type": "code",
   "execution_count": 58,
   "metadata": {},
   "outputs": [
    {
     "name": "stdout",
     "output_type": "stream",
     "text": [
      "Kappa Score:  0.6098089974113202\n",
      "roc_auc_score:  0.8051820728291318\n"
     ]
    }
   ],
   "source": [
    "kappa_score = cohen_kappa_score(y_test,y_pred_cv)\n",
    "print('Kappa Score: ', kappa_score)\n",
    "\n",
    "AUC_score = roc_auc_score(y_test,y_pred_cv)\n",
    "print('roc_auc_score: ', AUC_score)"
   ]
  },
  {
   "cell_type": "code",
   "execution_count": null,
   "metadata": {},
   "outputs": [],
   "source": []
  },
  {
   "cell_type": "code",
   "execution_count": null,
   "metadata": {},
   "outputs": [],
   "source": []
  },
  {
   "cell_type": "code",
   "execution_count": null,
   "metadata": {},
   "outputs": [],
   "source": []
  },
  {
   "cell_type": "code",
   "execution_count": null,
   "metadata": {},
   "outputs": [],
   "source": []
  },
  {
   "cell_type": "markdown",
   "metadata": {},
   "source": [
    "### Test data feature engineering"
   ]
  },
  {
   "cell_type": "code",
   "execution_count": 59,
   "metadata": {},
   "outputs": [
    {
     "data": {
      "text/html": [
       "<div>\n",
       "<style scoped>\n",
       "    .dataframe tbody tr th:only-of-type {\n",
       "        vertical-align: middle;\n",
       "    }\n",
       "\n",
       "    .dataframe tbody tr th {\n",
       "        vertical-align: top;\n",
       "    }\n",
       "\n",
       "    .dataframe thead th {\n",
       "        text-align: right;\n",
       "    }\n",
       "</style>\n",
       "<table border=\"1\" class=\"dataframe\">\n",
       "  <thead>\n",
       "    <tr style=\"text-align: right;\">\n",
       "      <th></th>\n",
       "      <th>Loan_ID</th>\n",
       "      <th>Gender</th>\n",
       "      <th>Married</th>\n",
       "      <th>Dependents</th>\n",
       "      <th>Education</th>\n",
       "      <th>Self_Employed</th>\n",
       "      <th>ApplicantIncome</th>\n",
       "      <th>CoapplicantIncome</th>\n",
       "      <th>LoanAmount</th>\n",
       "      <th>Loan_Amount_Term</th>\n",
       "      <th>Credit_History</th>\n",
       "      <th>Property_Area</th>\n",
       "    </tr>\n",
       "  </thead>\n",
       "  <tbody>\n",
       "    <tr>\n",
       "      <th>0</th>\n",
       "      <td>LP001015</td>\n",
       "      <td>Male</td>\n",
       "      <td>Yes</td>\n",
       "      <td>0</td>\n",
       "      <td>Graduate</td>\n",
       "      <td>No</td>\n",
       "      <td>5720</td>\n",
       "      <td>0</td>\n",
       "      <td>110.0</td>\n",
       "      <td>360.0</td>\n",
       "      <td>1.0</td>\n",
       "      <td>Urban</td>\n",
       "    </tr>\n",
       "    <tr>\n",
       "      <th>1</th>\n",
       "      <td>LP001022</td>\n",
       "      <td>Male</td>\n",
       "      <td>Yes</td>\n",
       "      <td>1</td>\n",
       "      <td>Graduate</td>\n",
       "      <td>No</td>\n",
       "      <td>3076</td>\n",
       "      <td>1500</td>\n",
       "      <td>126.0</td>\n",
       "      <td>360.0</td>\n",
       "      <td>1.0</td>\n",
       "      <td>Urban</td>\n",
       "    </tr>\n",
       "    <tr>\n",
       "      <th>2</th>\n",
       "      <td>LP001031</td>\n",
       "      <td>Male</td>\n",
       "      <td>Yes</td>\n",
       "      <td>2</td>\n",
       "      <td>Graduate</td>\n",
       "      <td>No</td>\n",
       "      <td>5000</td>\n",
       "      <td>1800</td>\n",
       "      <td>208.0</td>\n",
       "      <td>360.0</td>\n",
       "      <td>1.0</td>\n",
       "      <td>Urban</td>\n",
       "    </tr>\n",
       "    <tr>\n",
       "      <th>3</th>\n",
       "      <td>LP001035</td>\n",
       "      <td>Male</td>\n",
       "      <td>Yes</td>\n",
       "      <td>2</td>\n",
       "      <td>Graduate</td>\n",
       "      <td>No</td>\n",
       "      <td>2340</td>\n",
       "      <td>2546</td>\n",
       "      <td>100.0</td>\n",
       "      <td>360.0</td>\n",
       "      <td>NaN</td>\n",
       "      <td>Urban</td>\n",
       "    </tr>\n",
       "    <tr>\n",
       "      <th>4</th>\n",
       "      <td>LP001051</td>\n",
       "      <td>Male</td>\n",
       "      <td>No</td>\n",
       "      <td>0</td>\n",
       "      <td>Not Graduate</td>\n",
       "      <td>No</td>\n",
       "      <td>3276</td>\n",
       "      <td>0</td>\n",
       "      <td>78.0</td>\n",
       "      <td>360.0</td>\n",
       "      <td>1.0</td>\n",
       "      <td>Urban</td>\n",
       "    </tr>\n",
       "  </tbody>\n",
       "</table>\n",
       "</div>"
      ],
      "text/plain": [
       "    Loan_ID Gender Married Dependents     Education Self_Employed  \\\n",
       "0  LP001015   Male     Yes          0      Graduate            No   \n",
       "1  LP001022   Male     Yes          1      Graduate            No   \n",
       "2  LP001031   Male     Yes          2      Graduate            No   \n",
       "3  LP001035   Male     Yes          2      Graduate            No   \n",
       "4  LP001051   Male      No          0  Not Graduate            No   \n",
       "\n",
       "   ApplicantIncome  CoapplicantIncome  LoanAmount  Loan_Amount_Term  \\\n",
       "0             5720                  0       110.0             360.0   \n",
       "1             3076               1500       126.0             360.0   \n",
       "2             5000               1800       208.0             360.0   \n",
       "3             2340               2546       100.0             360.0   \n",
       "4             3276                  0        78.0             360.0   \n",
       "\n",
       "   Credit_History Property_Area  \n",
       "0             1.0         Urban  \n",
       "1             1.0         Urban  \n",
       "2             1.0         Urban  \n",
       "3             NaN         Urban  \n",
       "4             1.0         Urban  "
      ]
     },
     "execution_count": 59,
     "metadata": {},
     "output_type": "execute_result"
    }
   ],
   "source": [
    "df_test.head()"
   ]
  },
  {
   "cell_type": "code",
   "execution_count": 60,
   "metadata": {},
   "outputs": [
    {
     "data": {
      "text/plain": [
       "(367, 12)"
      ]
     },
     "execution_count": 60,
     "metadata": {},
     "output_type": "execute_result"
    }
   ],
   "source": [
    "df_test.shape"
   ]
  },
  {
   "cell_type": "code",
   "execution_count": 61,
   "metadata": {},
   "outputs": [
    {
     "name": "stdout",
     "output_type": "stream",
     "text": [
      "<class 'pandas.core.frame.DataFrame'>\n",
      "RangeIndex: 367 entries, 0 to 366\n",
      "Data columns (total 12 columns):\n",
      "Loan_ID              367 non-null object\n",
      "Gender               356 non-null object\n",
      "Married              367 non-null object\n",
      "Dependents           357 non-null object\n",
      "Education            367 non-null object\n",
      "Self_Employed        344 non-null object\n",
      "ApplicantIncome      367 non-null int64\n",
      "CoapplicantIncome    367 non-null int64\n",
      "LoanAmount           362 non-null float64\n",
      "Loan_Amount_Term     361 non-null float64\n",
      "Credit_History       338 non-null float64\n",
      "Property_Area        367 non-null object\n",
      "dtypes: float64(3), int64(2), object(7)\n",
      "memory usage: 34.5+ KB\n"
     ]
    }
   ],
   "source": [
    "df_test.info()"
   ]
  },
  {
   "cell_type": "code",
   "execution_count": 62,
   "metadata": {},
   "outputs": [
    {
     "name": "stdout",
     "output_type": "stream",
     "text": [
      "There is 7 categorical features including:\n",
      "['Loan_ID', 'Gender', 'Married', 'Dependents', 'Education', 'Self_Employed', 'Property_Area']\n"
     ]
    }
   ],
   "source": [
    "df_test_cat = df_test.select_dtypes(include = ['O'])\n",
    "print('There is {} categorical features including:\\n{}'.format(len(df_test_cat.columns), df_test_cat.columns.tolist()))"
   ]
  },
  {
   "cell_type": "code",
   "execution_count": 63,
   "metadata": {},
   "outputs": [],
   "source": [
    "# filling the nan values for multiple categorical columns\n",
    "for col in df_test_cat:\n",
    "    df_test[col] = df_test[col].fillna(df_test[col].value_counts().idxmax())"
   ]
  },
  {
   "cell_type": "code",
   "execution_count": 64,
   "metadata": {},
   "outputs": [],
   "source": [
    "# filling the nan values for multiple numerical columns\n",
    "for col in num_features:\n",
    "    df_test[col] = df_test[col].fillna(df_test[col].median())"
   ]
  },
  {
   "cell_type": "code",
   "execution_count": 65,
   "metadata": {},
   "outputs": [
    {
     "data": {
      "text/plain": [
       "Loan_ID              0\n",
       "Gender               0\n",
       "Married              0\n",
       "Dependents           0\n",
       "Education            0\n",
       "Self_Employed        0\n",
       "ApplicantIncome      0\n",
       "CoapplicantIncome    0\n",
       "LoanAmount           0\n",
       "Loan_Amount_Term     0\n",
       "Credit_History       0\n",
       "Property_Area        0\n",
       "dtype: int64"
      ]
     },
     "execution_count": 65,
     "metadata": {},
     "output_type": "execute_result"
    }
   ],
   "source": [
    "df_test.isnull().sum()"
   ]
  },
  {
   "cell_type": "code",
   "execution_count": 66,
   "metadata": {},
   "outputs": [
    {
     "data": {
      "text/html": [
       "<div>\n",
       "<style scoped>\n",
       "    .dataframe tbody tr th:only-of-type {\n",
       "        vertical-align: middle;\n",
       "    }\n",
       "\n",
       "    .dataframe tbody tr th {\n",
       "        vertical-align: top;\n",
       "    }\n",
       "\n",
       "    .dataframe thead th {\n",
       "        text-align: right;\n",
       "    }\n",
       "</style>\n",
       "<table border=\"1\" class=\"dataframe\">\n",
       "  <thead>\n",
       "    <tr style=\"text-align: right;\">\n",
       "      <th></th>\n",
       "      <th>ApplicantIncome</th>\n",
       "      <th>CoapplicantIncome</th>\n",
       "      <th>LoanAmount</th>\n",
       "      <th>Loan_Amount_Term</th>\n",
       "      <th>Credit_History</th>\n",
       "      <th>Gender_Female</th>\n",
       "      <th>Gender_Male</th>\n",
       "      <th>Married_No</th>\n",
       "      <th>Married_Yes</th>\n",
       "      <th>Dependents_0</th>\n",
       "      <th>Dependents_1</th>\n",
       "      <th>Dependents_2</th>\n",
       "      <th>Dependents_3+</th>\n",
       "      <th>Education_Graduate</th>\n",
       "      <th>Education_Not Graduate</th>\n",
       "      <th>Self_Employed_No</th>\n",
       "      <th>Self_Employed_Yes</th>\n",
       "      <th>Property_Area_Rural</th>\n",
       "      <th>Property_Area_Semiurban</th>\n",
       "      <th>Property_Area_Urban</th>\n",
       "    </tr>\n",
       "  </thead>\n",
       "  <tbody>\n",
       "    <tr>\n",
       "      <th>0</th>\n",
       "      <td>0.186461</td>\n",
       "      <td>-0.673335</td>\n",
       "      <td>-0.426780</td>\n",
       "      <td>0.266022</td>\n",
       "      <td>0.437674</td>\n",
       "      <td>-0.485479</td>\n",
       "      <td>0.485479</td>\n",
       "      <td>-0.758358</td>\n",
       "      <td>0.758358</td>\n",
       "      <td>0.864650</td>\n",
       "      <td>-0.433246</td>\n",
       "      <td>-0.437674</td>\n",
       "      <td>-0.349749</td>\n",
       "      <td>0.544812</td>\n",
       "      <td>-0.544812</td>\n",
       "      <td>0.334845</td>\n",
       "      <td>-0.334845</td>\n",
       "      <td>-0.658478</td>\n",
       "      <td>-0.679817</td>\n",
       "      <td>1.273353</td>\n",
       "    </tr>\n",
       "    <tr>\n",
       "      <th>1</th>\n",
       "      <td>-0.352692</td>\n",
       "      <td>-0.029848</td>\n",
       "      <td>-0.163953</td>\n",
       "      <td>0.266022</td>\n",
       "      <td>0.437674</td>\n",
       "      <td>-0.485479</td>\n",
       "      <td>0.485479</td>\n",
       "      <td>-0.758358</td>\n",
       "      <td>0.758358</td>\n",
       "      <td>-1.156538</td>\n",
       "      <td>2.308156</td>\n",
       "      <td>-0.437674</td>\n",
       "      <td>-0.349749</td>\n",
       "      <td>0.544812</td>\n",
       "      <td>-0.544812</td>\n",
       "      <td>0.334845</td>\n",
       "      <td>-0.334845</td>\n",
       "      <td>-0.658478</td>\n",
       "      <td>-0.679817</td>\n",
       "      <td>1.273353</td>\n",
       "    </tr>\n",
       "    <tr>\n",
       "      <th>2</th>\n",
       "      <td>0.039641</td>\n",
       "      <td>0.098849</td>\n",
       "      <td>1.183033</td>\n",
       "      <td>0.266022</td>\n",
       "      <td>0.437674</td>\n",
       "      <td>-0.485479</td>\n",
       "      <td>0.485479</td>\n",
       "      <td>-0.758358</td>\n",
       "      <td>0.758358</td>\n",
       "      <td>-1.156538</td>\n",
       "      <td>-0.433246</td>\n",
       "      <td>2.284806</td>\n",
       "      <td>-0.349749</td>\n",
       "      <td>0.544812</td>\n",
       "      <td>-0.544812</td>\n",
       "      <td>0.334845</td>\n",
       "      <td>-0.334845</td>\n",
       "      <td>-0.658478</td>\n",
       "      <td>-0.679817</td>\n",
       "      <td>1.273353</td>\n",
       "    </tr>\n",
       "    <tr>\n",
       "      <th>3</th>\n",
       "      <td>-0.502774</td>\n",
       "      <td>0.418877</td>\n",
       "      <td>-0.591047</td>\n",
       "      <td>0.266022</td>\n",
       "      <td>0.437674</td>\n",
       "      <td>-0.485479</td>\n",
       "      <td>0.485479</td>\n",
       "      <td>-0.758358</td>\n",
       "      <td>0.758358</td>\n",
       "      <td>-1.156538</td>\n",
       "      <td>-0.433246</td>\n",
       "      <td>2.284806</td>\n",
       "      <td>-0.349749</td>\n",
       "      <td>0.544812</td>\n",
       "      <td>-0.544812</td>\n",
       "      <td>0.334845</td>\n",
       "      <td>-0.334845</td>\n",
       "      <td>-0.658478</td>\n",
       "      <td>-0.679817</td>\n",
       "      <td>1.273353</td>\n",
       "    </tr>\n",
       "    <tr>\n",
       "      <th>4</th>\n",
       "      <td>-0.311909</td>\n",
       "      <td>-0.673335</td>\n",
       "      <td>-0.952433</td>\n",
       "      <td>0.266022</td>\n",
       "      <td>0.437674</td>\n",
       "      <td>-0.485479</td>\n",
       "      <td>0.485479</td>\n",
       "      <td>1.318638</td>\n",
       "      <td>-1.318638</td>\n",
       "      <td>0.864650</td>\n",
       "      <td>-0.433246</td>\n",
       "      <td>-0.437674</td>\n",
       "      <td>-0.349749</td>\n",
       "      <td>-1.835497</td>\n",
       "      <td>1.835497</td>\n",
       "      <td>0.334845</td>\n",
       "      <td>-0.334845</td>\n",
       "      <td>-0.658478</td>\n",
       "      <td>-0.679817</td>\n",
       "      <td>1.273353</td>\n",
       "    </tr>\n",
       "  </tbody>\n",
       "</table>\n",
       "</div>"
      ],
      "text/plain": [
       "   ApplicantIncome  CoapplicantIncome  LoanAmount  Loan_Amount_Term  \\\n",
       "0         0.186461          -0.673335   -0.426780          0.266022   \n",
       "1        -0.352692          -0.029848   -0.163953          0.266022   \n",
       "2         0.039641           0.098849    1.183033          0.266022   \n",
       "3        -0.502774           0.418877   -0.591047          0.266022   \n",
       "4        -0.311909          -0.673335   -0.952433          0.266022   \n",
       "\n",
       "   Credit_History  Gender_Female  Gender_Male  Married_No  Married_Yes  \\\n",
       "0        0.437674      -0.485479     0.485479   -0.758358     0.758358   \n",
       "1        0.437674      -0.485479     0.485479   -0.758358     0.758358   \n",
       "2        0.437674      -0.485479     0.485479   -0.758358     0.758358   \n",
       "3        0.437674      -0.485479     0.485479   -0.758358     0.758358   \n",
       "4        0.437674      -0.485479     0.485479    1.318638    -1.318638   \n",
       "\n",
       "   Dependents_0  Dependents_1  Dependents_2  Dependents_3+  \\\n",
       "0      0.864650     -0.433246     -0.437674      -0.349749   \n",
       "1     -1.156538      2.308156     -0.437674      -0.349749   \n",
       "2     -1.156538     -0.433246      2.284806      -0.349749   \n",
       "3     -1.156538     -0.433246      2.284806      -0.349749   \n",
       "4      0.864650     -0.433246     -0.437674      -0.349749   \n",
       "\n",
       "   Education_Graduate  Education_Not Graduate  Self_Employed_No  \\\n",
       "0            0.544812               -0.544812          0.334845   \n",
       "1            0.544812               -0.544812          0.334845   \n",
       "2            0.544812               -0.544812          0.334845   \n",
       "3            0.544812               -0.544812          0.334845   \n",
       "4           -1.835497                1.835497          0.334845   \n",
       "\n",
       "   Self_Employed_Yes  Property_Area_Rural  Property_Area_Semiurban  \\\n",
       "0          -0.334845            -0.658478                -0.679817   \n",
       "1          -0.334845            -0.658478                -0.679817   \n",
       "2          -0.334845            -0.658478                -0.679817   \n",
       "3          -0.334845            -0.658478                -0.679817   \n",
       "4          -0.334845            -0.658478                -0.679817   \n",
       "\n",
       "   Property_Area_Urban  \n",
       "0             1.273353  \n",
       "1             1.273353  \n",
       "2             1.273353  \n",
       "3             1.273353  \n",
       "4             1.273353  "
      ]
     },
     "execution_count": 66,
     "metadata": {},
     "output_type": "execute_result"
    }
   ],
   "source": [
    "X_test = df_test.drop(['Loan_ID'],axis = 1)\n",
    "dX_test = pd.get_dummies(X_test)\n",
    "test_data = pd.DataFrame(sc.fit_transform(dX_test), columns = dX_test.columns)\n",
    "test_data.head()"
   ]
  },
  {
   "cell_type": "code",
   "execution_count": 67,
   "metadata": {},
   "outputs": [
    {
     "data": {
      "text/plain": [
       "(367, 20)"
      ]
     },
     "execution_count": 67,
     "metadata": {},
     "output_type": "execute_result"
    }
   ],
   "source": [
    "test_data.shape"
   ]
  },
  {
   "cell_type": "code",
   "execution_count": 68,
   "metadata": {},
   "outputs": [],
   "source": [
    "y_pred_test = gridcv.predict(test_data)\n",
    "test_data['Loan_Status'] = y_pred_test"
   ]
  },
  {
   "cell_type": "code",
   "execution_count": 69,
   "metadata": {},
   "outputs": [
    {
     "data": {
      "text/html": [
       "<div>\n",
       "<style scoped>\n",
       "    .dataframe tbody tr th:only-of-type {\n",
       "        vertical-align: middle;\n",
       "    }\n",
       "\n",
       "    .dataframe tbody tr th {\n",
       "        vertical-align: top;\n",
       "    }\n",
       "\n",
       "    .dataframe thead th {\n",
       "        text-align: right;\n",
       "    }\n",
       "</style>\n",
       "<table border=\"1\" class=\"dataframe\">\n",
       "  <thead>\n",
       "    <tr style=\"text-align: right;\">\n",
       "      <th></th>\n",
       "      <th>ApplicantIncome</th>\n",
       "      <th>CoapplicantIncome</th>\n",
       "      <th>LoanAmount</th>\n",
       "      <th>Loan_Amount_Term</th>\n",
       "      <th>Credit_History</th>\n",
       "      <th>Gender_Female</th>\n",
       "      <th>Gender_Male</th>\n",
       "      <th>Married_No</th>\n",
       "      <th>Married_Yes</th>\n",
       "      <th>Dependents_0</th>\n",
       "      <th>...</th>\n",
       "      <th>Dependents_2</th>\n",
       "      <th>Dependents_3+</th>\n",
       "      <th>Education_Graduate</th>\n",
       "      <th>Education_Not Graduate</th>\n",
       "      <th>Self_Employed_No</th>\n",
       "      <th>Self_Employed_Yes</th>\n",
       "      <th>Property_Area_Rural</th>\n",
       "      <th>Property_Area_Semiurban</th>\n",
       "      <th>Property_Area_Urban</th>\n",
       "      <th>Loan_Status</th>\n",
       "    </tr>\n",
       "  </thead>\n",
       "  <tbody>\n",
       "    <tr>\n",
       "      <th>0</th>\n",
       "      <td>0.186461</td>\n",
       "      <td>-0.673335</td>\n",
       "      <td>-0.426780</td>\n",
       "      <td>0.266022</td>\n",
       "      <td>0.437674</td>\n",
       "      <td>-0.485479</td>\n",
       "      <td>0.485479</td>\n",
       "      <td>-0.758358</td>\n",
       "      <td>0.758358</td>\n",
       "      <td>0.864650</td>\n",
       "      <td>...</td>\n",
       "      <td>-0.437674</td>\n",
       "      <td>-0.349749</td>\n",
       "      <td>0.544812</td>\n",
       "      <td>-0.544812</td>\n",
       "      <td>0.334845</td>\n",
       "      <td>-0.334845</td>\n",
       "      <td>-0.658478</td>\n",
       "      <td>-0.679817</td>\n",
       "      <td>1.273353</td>\n",
       "      <td>0</td>\n",
       "    </tr>\n",
       "    <tr>\n",
       "      <th>1</th>\n",
       "      <td>-0.352692</td>\n",
       "      <td>-0.029848</td>\n",
       "      <td>-0.163953</td>\n",
       "      <td>0.266022</td>\n",
       "      <td>0.437674</td>\n",
       "      <td>-0.485479</td>\n",
       "      <td>0.485479</td>\n",
       "      <td>-0.758358</td>\n",
       "      <td>0.758358</td>\n",
       "      <td>-1.156538</td>\n",
       "      <td>...</td>\n",
       "      <td>-0.437674</td>\n",
       "      <td>-0.349749</td>\n",
       "      <td>0.544812</td>\n",
       "      <td>-0.544812</td>\n",
       "      <td>0.334845</td>\n",
       "      <td>-0.334845</td>\n",
       "      <td>-0.658478</td>\n",
       "      <td>-0.679817</td>\n",
       "      <td>1.273353</td>\n",
       "      <td>0</td>\n",
       "    </tr>\n",
       "    <tr>\n",
       "      <th>2</th>\n",
       "      <td>0.039641</td>\n",
       "      <td>0.098849</td>\n",
       "      <td>1.183033</td>\n",
       "      <td>0.266022</td>\n",
       "      <td>0.437674</td>\n",
       "      <td>-0.485479</td>\n",
       "      <td>0.485479</td>\n",
       "      <td>-0.758358</td>\n",
       "      <td>0.758358</td>\n",
       "      <td>-1.156538</td>\n",
       "      <td>...</td>\n",
       "      <td>2.284806</td>\n",
       "      <td>-0.349749</td>\n",
       "      <td>0.544812</td>\n",
       "      <td>-0.544812</td>\n",
       "      <td>0.334845</td>\n",
       "      <td>-0.334845</td>\n",
       "      <td>-0.658478</td>\n",
       "      <td>-0.679817</td>\n",
       "      <td>1.273353</td>\n",
       "      <td>1</td>\n",
       "    </tr>\n",
       "    <tr>\n",
       "      <th>3</th>\n",
       "      <td>-0.502774</td>\n",
       "      <td>0.418877</td>\n",
       "      <td>-0.591047</td>\n",
       "      <td>0.266022</td>\n",
       "      <td>0.437674</td>\n",
       "      <td>-0.485479</td>\n",
       "      <td>0.485479</td>\n",
       "      <td>-0.758358</td>\n",
       "      <td>0.758358</td>\n",
       "      <td>-1.156538</td>\n",
       "      <td>...</td>\n",
       "      <td>2.284806</td>\n",
       "      <td>-0.349749</td>\n",
       "      <td>0.544812</td>\n",
       "      <td>-0.544812</td>\n",
       "      <td>0.334845</td>\n",
       "      <td>-0.334845</td>\n",
       "      <td>-0.658478</td>\n",
       "      <td>-0.679817</td>\n",
       "      <td>1.273353</td>\n",
       "      <td>1</td>\n",
       "    </tr>\n",
       "    <tr>\n",
       "      <th>4</th>\n",
       "      <td>-0.311909</td>\n",
       "      <td>-0.673335</td>\n",
       "      <td>-0.952433</td>\n",
       "      <td>0.266022</td>\n",
       "      <td>0.437674</td>\n",
       "      <td>-0.485479</td>\n",
       "      <td>0.485479</td>\n",
       "      <td>1.318638</td>\n",
       "      <td>-1.318638</td>\n",
       "      <td>0.864650</td>\n",
       "      <td>...</td>\n",
       "      <td>-0.437674</td>\n",
       "      <td>-0.349749</td>\n",
       "      <td>-1.835497</td>\n",
       "      <td>1.835497</td>\n",
       "      <td>0.334845</td>\n",
       "      <td>-0.334845</td>\n",
       "      <td>-0.658478</td>\n",
       "      <td>-0.679817</td>\n",
       "      <td>1.273353</td>\n",
       "      <td>0</td>\n",
       "    </tr>\n",
       "    <tr>\n",
       "      <th>...</th>\n",
       "      <td>...</td>\n",
       "      <td>...</td>\n",
       "      <td>...</td>\n",
       "      <td>...</td>\n",
       "      <td>...</td>\n",
       "      <td>...</td>\n",
       "      <td>...</td>\n",
       "      <td>...</td>\n",
       "      <td>...</td>\n",
       "      <td>...</td>\n",
       "      <td>...</td>\n",
       "      <td>...</td>\n",
       "      <td>...</td>\n",
       "      <td>...</td>\n",
       "      <td>...</td>\n",
       "      <td>...</td>\n",
       "      <td>...</td>\n",
       "      <td>...</td>\n",
       "      <td>...</td>\n",
       "      <td>...</td>\n",
       "      <td>...</td>\n",
       "    </tr>\n",
       "    <tr>\n",
       "      <th>362</th>\n",
       "      <td>-0.162439</td>\n",
       "      <td>0.088982</td>\n",
       "      <td>-0.377500</td>\n",
       "      <td>0.266022</td>\n",
       "      <td>0.437674</td>\n",
       "      <td>-0.485479</td>\n",
       "      <td>0.485479</td>\n",
       "      <td>-0.758358</td>\n",
       "      <td>0.758358</td>\n",
       "      <td>-1.156538</td>\n",
       "      <td>...</td>\n",
       "      <td>-0.437674</td>\n",
       "      <td>2.859196</td>\n",
       "      <td>-1.835497</td>\n",
       "      <td>1.835497</td>\n",
       "      <td>-2.986456</td>\n",
       "      <td>2.986456</td>\n",
       "      <td>-0.658478</td>\n",
       "      <td>-0.679817</td>\n",
       "      <td>1.273353</td>\n",
       "      <td>1</td>\n",
       "    </tr>\n",
       "    <tr>\n",
       "      <th>363</th>\n",
       "      <td>-0.132056</td>\n",
       "      <td>-0.369180</td>\n",
       "      <td>-0.344647</td>\n",
       "      <td>0.266022</td>\n",
       "      <td>0.437674</td>\n",
       "      <td>-0.485479</td>\n",
       "      <td>0.485479</td>\n",
       "      <td>-0.758358</td>\n",
       "      <td>0.758358</td>\n",
       "      <td>0.864650</td>\n",
       "      <td>...</td>\n",
       "      <td>-0.437674</td>\n",
       "      <td>-0.349749</td>\n",
       "      <td>0.544812</td>\n",
       "      <td>-0.544812</td>\n",
       "      <td>0.334845</td>\n",
       "      <td>-0.334845</td>\n",
       "      <td>-0.658478</td>\n",
       "      <td>-0.679817</td>\n",
       "      <td>1.273353</td>\n",
       "      <td>0</td>\n",
       "    </tr>\n",
       "    <tr>\n",
       "      <th>364</th>\n",
       "      <td>-0.317211</td>\n",
       "      <td>0.181644</td>\n",
       "      <td>-0.163953</td>\n",
       "      <td>0.266022</td>\n",
       "      <td>0.437674</td>\n",
       "      <td>-0.485479</td>\n",
       "      <td>0.485479</td>\n",
       "      <td>1.318638</td>\n",
       "      <td>-1.318638</td>\n",
       "      <td>0.864650</td>\n",
       "      <td>...</td>\n",
       "      <td>-0.437674</td>\n",
       "      <td>-0.349749</td>\n",
       "      <td>0.544812</td>\n",
       "      <td>-0.544812</td>\n",
       "      <td>0.334845</td>\n",
       "      <td>-0.334845</td>\n",
       "      <td>-0.658478</td>\n",
       "      <td>1.470984</td>\n",
       "      <td>-0.785328</td>\n",
       "      <td>1</td>\n",
       "    </tr>\n",
       "    <tr>\n",
       "      <th>365</th>\n",
       "      <td>0.039641</td>\n",
       "      <td>0.353241</td>\n",
       "      <td>0.361700</td>\n",
       "      <td>0.266022</td>\n",
       "      <td>0.437674</td>\n",
       "      <td>-0.485479</td>\n",
       "      <td>0.485479</td>\n",
       "      <td>-0.758358</td>\n",
       "      <td>0.758358</td>\n",
       "      <td>0.864650</td>\n",
       "      <td>...</td>\n",
       "      <td>-0.437674</td>\n",
       "      <td>-0.349749</td>\n",
       "      <td>0.544812</td>\n",
       "      <td>-0.544812</td>\n",
       "      <td>0.334845</td>\n",
       "      <td>-0.334845</td>\n",
       "      <td>1.518653</td>\n",
       "      <td>-0.679817</td>\n",
       "      <td>-0.785328</td>\n",
       "      <td>0</td>\n",
       "    </tr>\n",
       "    <tr>\n",
       "      <th>366</th>\n",
       "      <td>0.896087</td>\n",
       "      <td>-0.673335</td>\n",
       "      <td>-0.623900</td>\n",
       "      <td>-2.521639</td>\n",
       "      <td>0.437674</td>\n",
       "      <td>-0.485479</td>\n",
       "      <td>0.485479</td>\n",
       "      <td>1.318638</td>\n",
       "      <td>-1.318638</td>\n",
       "      <td>0.864650</td>\n",
       "      <td>...</td>\n",
       "      <td>-0.437674</td>\n",
       "      <td>-0.349749</td>\n",
       "      <td>0.544812</td>\n",
       "      <td>-0.544812</td>\n",
       "      <td>-2.986456</td>\n",
       "      <td>2.986456</td>\n",
       "      <td>1.518653</td>\n",
       "      <td>-0.679817</td>\n",
       "      <td>-0.785328</td>\n",
       "      <td>1</td>\n",
       "    </tr>\n",
       "  </tbody>\n",
       "</table>\n",
       "<p>367 rows × 21 columns</p>\n",
       "</div>"
      ],
      "text/plain": [
       "     ApplicantIncome  CoapplicantIncome  LoanAmount  Loan_Amount_Term  \\\n",
       "0           0.186461          -0.673335   -0.426780          0.266022   \n",
       "1          -0.352692          -0.029848   -0.163953          0.266022   \n",
       "2           0.039641           0.098849    1.183033          0.266022   \n",
       "3          -0.502774           0.418877   -0.591047          0.266022   \n",
       "4          -0.311909          -0.673335   -0.952433          0.266022   \n",
       "..               ...                ...         ...               ...   \n",
       "362        -0.162439           0.088982   -0.377500          0.266022   \n",
       "363        -0.132056          -0.369180   -0.344647          0.266022   \n",
       "364        -0.317211           0.181644   -0.163953          0.266022   \n",
       "365         0.039641           0.353241    0.361700          0.266022   \n",
       "366         0.896087          -0.673335   -0.623900         -2.521639   \n",
       "\n",
       "     Credit_History  Gender_Female  Gender_Male  Married_No  Married_Yes  \\\n",
       "0          0.437674      -0.485479     0.485479   -0.758358     0.758358   \n",
       "1          0.437674      -0.485479     0.485479   -0.758358     0.758358   \n",
       "2          0.437674      -0.485479     0.485479   -0.758358     0.758358   \n",
       "3          0.437674      -0.485479     0.485479   -0.758358     0.758358   \n",
       "4          0.437674      -0.485479     0.485479    1.318638    -1.318638   \n",
       "..              ...            ...          ...         ...          ...   \n",
       "362        0.437674      -0.485479     0.485479   -0.758358     0.758358   \n",
       "363        0.437674      -0.485479     0.485479   -0.758358     0.758358   \n",
       "364        0.437674      -0.485479     0.485479    1.318638    -1.318638   \n",
       "365        0.437674      -0.485479     0.485479   -0.758358     0.758358   \n",
       "366        0.437674      -0.485479     0.485479    1.318638    -1.318638   \n",
       "\n",
       "     Dependents_0  ...  Dependents_2  Dependents_3+  Education_Graduate  \\\n",
       "0        0.864650  ...     -0.437674      -0.349749            0.544812   \n",
       "1       -1.156538  ...     -0.437674      -0.349749            0.544812   \n",
       "2       -1.156538  ...      2.284806      -0.349749            0.544812   \n",
       "3       -1.156538  ...      2.284806      -0.349749            0.544812   \n",
       "4        0.864650  ...     -0.437674      -0.349749           -1.835497   \n",
       "..            ...  ...           ...            ...                 ...   \n",
       "362     -1.156538  ...     -0.437674       2.859196           -1.835497   \n",
       "363      0.864650  ...     -0.437674      -0.349749            0.544812   \n",
       "364      0.864650  ...     -0.437674      -0.349749            0.544812   \n",
       "365      0.864650  ...     -0.437674      -0.349749            0.544812   \n",
       "366      0.864650  ...     -0.437674      -0.349749            0.544812   \n",
       "\n",
       "     Education_Not Graduate  Self_Employed_No  Self_Employed_Yes  \\\n",
       "0                 -0.544812          0.334845          -0.334845   \n",
       "1                 -0.544812          0.334845          -0.334845   \n",
       "2                 -0.544812          0.334845          -0.334845   \n",
       "3                 -0.544812          0.334845          -0.334845   \n",
       "4                  1.835497          0.334845          -0.334845   \n",
       "..                      ...               ...                ...   \n",
       "362                1.835497         -2.986456           2.986456   \n",
       "363               -0.544812          0.334845          -0.334845   \n",
       "364               -0.544812          0.334845          -0.334845   \n",
       "365               -0.544812          0.334845          -0.334845   \n",
       "366               -0.544812         -2.986456           2.986456   \n",
       "\n",
       "     Property_Area_Rural  Property_Area_Semiurban  Property_Area_Urban  \\\n",
       "0              -0.658478                -0.679817             1.273353   \n",
       "1              -0.658478                -0.679817             1.273353   \n",
       "2              -0.658478                -0.679817             1.273353   \n",
       "3              -0.658478                -0.679817             1.273353   \n",
       "4              -0.658478                -0.679817             1.273353   \n",
       "..                   ...                      ...                  ...   \n",
       "362            -0.658478                -0.679817             1.273353   \n",
       "363            -0.658478                -0.679817             1.273353   \n",
       "364            -0.658478                 1.470984            -0.785328   \n",
       "365             1.518653                -0.679817            -0.785328   \n",
       "366             1.518653                -0.679817            -0.785328   \n",
       "\n",
       "     Loan_Status  \n",
       "0              0  \n",
       "1              0  \n",
       "2              1  \n",
       "3              1  \n",
       "4              0  \n",
       "..           ...  \n",
       "362            1  \n",
       "363            0  \n",
       "364            1  \n",
       "365            0  \n",
       "366            1  \n",
       "\n",
       "[367 rows x 21 columns]"
      ]
     },
     "execution_count": 69,
     "metadata": {},
     "output_type": "execute_result"
    }
   ],
   "source": [
    "test_data"
   ]
  },
  {
   "cell_type": "code",
   "execution_count": 70,
   "metadata": {},
   "outputs": [],
   "source": [
    "test_data.to_csv('predicted_test.csv')"
   ]
  },
  {
   "cell_type": "markdown",
   "metadata": {},
   "source": [
    "### Without balancing the data all the  classifiers accuracies "
   ]
  },
  {
   "cell_type": "code",
   "execution_count": 71,
   "metadata": {},
   "outputs": [
    {
     "data": {
      "text/plain": [
       "<matplotlib.axes._subplots.AxesSubplot at 0x1a05c56ff60>"
      ]
     },
     "execution_count": 71,
     "metadata": {},
     "output_type": "execute_result"
    },
    {
     "data": {
      "image/png": "[encoded data removed]",
      "text/plain": [
       "<Figure size 432x288 with 1 Axes>"
      ]
     },
     "metadata": {
      "needs_background": "light"
     },
     "output_type": "display_data"
    }
   ],
   "source": [
    "# Define classifiers in a list\n",
    "classifiers = [\n",
    "    KNeighborsClassifier(3),\n",
    "    SVC(probability=True),\n",
    "    DecisionTreeClassifier(),\n",
    "    RandomForestClassifier(),\n",
    "    AdaBoostClassifier(),\n",
    "    GradientBoostingClassifier(),\n",
    "    GaussianNB(),\n",
    "    \n",
    "    LogisticRegression()]\n",
    "# create new dataframe for accuracy and classifier\n",
    "new_cols = [\"Classifier\", \"Accuracy\"]\n",
    "data_clf = pd.DataFrame(columns=new_cols)\n",
    "#split the data into train and test \n",
    "X_train,X_test,y_train,y_test = train_test_split(x,y,test_size = 0.2,random_state = 4)\n",
    "\n",
    "\n",
    "\n",
    "acc_dict = {}\n",
    "\n",
    "\n",
    "    \n",
    "\n",
    "for clf in classifiers:\n",
    "    name = clf.__class__.__name__\n",
    "    clf.fit(X_train, y_train)\n",
    "    train_predictions = clf.predict(X_test)\n",
    "    acc = accuracy_score(y_test, train_predictions)\n",
    "    if name in acc_dict:\n",
    "        acc_dict[name] += acc\n",
    "    else:\n",
    "        acc_dict[name] = acc\n",
    "\n",
    "for clf in acc_dict:\n",
    "     \n",
    "    data_entry = pd.DataFrame([[clf, acc_dict[clf]]], columns=new_cols)\n",
    "    data_clf = data_clf.append(data_entry)\n",
    "\n",
    "plt.xlabel('Accuracy')\n",
    "plt.title('Classifier Accuracy')\n",
    "\n",
    "sns.set_color_codes(\"muted\")\n",
    "sns.barplot(x='Accuracy', y='Classifier', data=data_clf, color=\"b\")"
   ]
  },
  {
   "cell_type": "markdown",
   "metadata": {},
   "source": [
    "### With Balancing the dataset all the classifiers accuracies"
   ]
  },
  {
   "cell_type": "code",
   "execution_count": 72,
   "metadata": {},
   "outputs": [
    {
     "data": {
      "text/plain": [
       "<matplotlib.axes._subplots.AxesSubplot at 0x1a05c3bef60>"
      ]
     },
     "execution_count": 72,
     "metadata": {},
     "output_type": "execute_result"
    },
    {
     "data": {
      "image/png": "[encoded data removed]",
      "text/plain": [
       "<Figure size 432x288 with 1 Axes>"
      ]
     },
     "metadata": {
      "needs_background": "light"
     },
     "output_type": "display_data"
    }
   ],
   "source": [
    "classifiers = [\n",
    "    KNeighborsClassifier(3),\n",
    "    SVC(probability=True),\n",
    "    DecisionTreeClassifier(),\n",
    "    RandomForestClassifier(),\n",
    "    AdaBoostClassifier(),\n",
    "    GradientBoostingClassifier(),\n",
    "    GaussianNB(),\n",
    "    #LinearDiscriminantAnalysis(),\n",
    "    #QuadraticDiscriminantAnalysis(),\n",
    "    LogisticRegression()]\n",
    "\n",
    "log_cols = [\"Classifier\", \"Accuracy\"]\n",
    "log      = pd.DataFrame(columns=log_cols)\n",
    "\n",
    "X_train,X_test,y_train,y_test = train_test_split(x_over,y_over,test_size = 0.2,random_state = 4)\n",
    "\n",
    "\n",
    "\n",
    "acc_dict = {}\n",
    "\n",
    "\n",
    "    \n",
    "\n",
    "for clf in classifiers:\n",
    "    name = clf.__class__.__name__\n",
    "    clf.fit(X_train, y_train)\n",
    "    train_predictions = clf.predict(X_test)\n",
    "    acc = accuracy_score(y_test, train_predictions)\n",
    "    if name in acc_dict:\n",
    "        acc_dict[name] += acc\n",
    "    else:\n",
    "        acc_dict[name] = acc\n",
    "\n",
    "for clf in acc_dict:\n",
    "    acc_dict[clf] = acc_dict[clf] \n",
    "    log_entry = pd.DataFrame([[clf, acc_dict[clf]]], columns=log_cols)\n",
    "    log = log.append(log_entry)\n",
    "\n",
    "plt.xlabel('Accuracy')\n",
    "plt.title('Classifier Accuracy')\n",
    "\n",
    "sns.set_color_codes(\"muted\")\n",
    "sns.barplot(x='Accuracy', y='Classifier', data=log, color=\"b\")"
   ]
  },
  {
   "cell_type": "code",
   "execution_count": 73,
   "metadata": {},
   "outputs": [
    {
     "data": {
      "text/plain": [
       "['Credit_History',\n",
       " 'LoanAmount',\n",
       " 'ApplicantIncome',\n",
       " 'CoapplicantIncome',\n",
       " 'Property_Area_Semiurban',\n",
       " 'Loan_Amount_Term',\n",
       " 'Property_Area_Rural',\n",
       " 'Dependents_0',\n",
       " 'Married_Yes',\n",
       " 'Dependents_2',\n",
       " 'Education_Graduate',\n",
       " 'Self_Employed_Yes',\n",
       " 'Gender_Female']"
      ]
     },
     "execution_count": 73,
     "metadata": {},
     "output_type": "execute_result"
    }
   ],
   "source": [
    "cols "
   ]
  },
  {
   "cell_type": "code",
   "execution_count": 74,
   "metadata": {},
   "outputs": [],
   "source": [
    "x_over = pd.DataFrame(x_over, columns = x.columns)"
   ]
  },
  {
   "cell_type": "code",
   "execution_count": 75,
   "metadata": {},
   "outputs": [
    {
     "name": "stdout",
     "output_type": "stream",
     "text": [
      "(675, 13) (169, 13) (675,) (169,)\n"
     ]
    }
   ],
   "source": [
    "X_train1,X_test1,y_train1,y_test1 = train_test_split(x_over[cols],y_over,test_size = 0.2,random_state = 4)\n",
    "print(X_train1.shape,X_test1.shape,y_train1.shape,y_test1.shape)\n"
   ]
  },
  {
   "cell_type": "code",
   "execution_count": 76,
   "metadata": {},
   "outputs": [
    {
     "data": {
      "text/plain": [
       "<matplotlib.axes._subplots.AxesSubplot at 0x1a05c559550>"
      ]
     },
     "execution_count": 76,
     "metadata": {},
     "output_type": "execute_result"
    },
    {
     "data": {
      "image/png": "[encoded data removed]",
      "text/plain": [
       "<Figure size 432x288 with 1 Axes>"
      ]
     },
     "metadata": {
      "needs_background": "light"
     },
     "output_type": "display_data"
    }
   ],
   "source": [
    "classifiers = [\n",
    "    KNeighborsClassifier(3),\n",
    "    SVC(probability=True),\n",
    "    DecisionTreeClassifier(),\n",
    "    RandomForestClassifier(),\n",
    "    AdaBoostClassifier(),\n",
    "    GradientBoostingClassifier(),\n",
    "    GaussianNB(),\n",
    "    #LinearDiscriminantAnalysis(),\n",
    "    #QuadraticDiscriminantAnalysis(),\n",
    "    LogisticRegression()]\n",
    "\n",
    "log_cols = [\"Classifier\", \"Accuracy\"]\n",
    "log      = pd.DataFrame(columns=log_cols)\n",
    "\n",
    "#X_train,X_test,y_train,y_test = train_test_split(x_over,y_over,test_size = 0.2,random_state = 4)\n",
    "\n",
    "\n",
    "\n",
    "acc_dict = {}\n",
    "\n",
    "\n",
    "    \n",
    "\n",
    "for classi in classifiers:\n",
    "    name = classi.__class__.__name__\n",
    "    classi.fit(X_train1, y_train1)\n",
    "    train_predictions = classi.predict(X_test1)\n",
    "    acc = accuracy_score(y_test1, train_predictions)\n",
    "    if name in acc_dict:\n",
    "        acc_dict[name] += acc\n",
    "    else:\n",
    "        acc_dict[name] = acc\n",
    "\n",
    "for classi in acc_dict:\n",
    "    acc_dict[classi] = acc_dict[classi] \n",
    "    log_entry = pd.DataFrame([[classi, acc_dict[classi]]], columns=log_cols)\n",
    "    log = log.append(log_entry)\n",
    "\n",
    "plt.xlabel('Accuracy')\n",
    "plt.title('Classifier Accuracy')\n",
    "\n",
    "sns.set_color_codes(\"muted\")\n",
    "sns.barplot(x='Accuracy', y='Classifier', data=log, color=\"b\")"
   ]
  },
  {
   "cell_type": "code",
   "execution_count": 77,
   "metadata": {},
   "outputs": [],
   "source": [
    "test_data1 = test_data.copy()"
   ]
  },
  {
   "cell_type": "code",
   "execution_count": null,
   "metadata": {},
   "outputs": [],
   "source": []
  }
 ],
 "metadata": {
  "kernelspec": {
   "display_name": "Python 3",
   "language": "python",
   "name": "python3"
  },
  "language_info": {
   "codemirror_mode": {
    "name": "ipython",
    "version": 3
   },
   "file_extension": ".py",
   "mimetype": "text/x-python",
   "name": "python",
   "nbconvert_exporter": "python",
   "pygments_lexer": "ipython3",
   "version": "3.7.3"
  }
 },
 "nbformat": 4,
 "nbformat_minor": 2
}
